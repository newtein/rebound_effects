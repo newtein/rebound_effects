{
 "cells": [
  {
   "cell_type": "code",
   "execution_count": 1,
   "metadata": {},
   "outputs": [],
   "source": [
    "from temporal_article_search import GetTotal\n",
    "import time"
   ]
  },
  {
   "cell_type": "code",
   "execution_count": 2,
   "metadata": {},
   "outputs": [],
   "source": [
    "database = 'science_direct_s1'\n",
    "search_term =  'smart home*'\n",
    "\n",
    "# (\"smart home\" OR \"smart homes\") AND (\"energy efficiency\" OR \"energy efficient\")"
   ]
  },
  {
   "cell_type": "code",
   "execution_count": 3,
   "metadata": {},
   "outputs": [],
   "source": [
    "science_direct_search_queries = [\n",
    "        \"\\\"smart home\\\" OR \\\"smart home\\\"\",\n",
    "        \"\\\"energy efficiency\\\" OR \\\"energy efficient\\\"\",\n",
    "        \"\\\"rebound effect\\\" OR \\\"rebound effects\\\" OR \\\"jevons paradox\\\" OR \\\"khazzoom-brookes postulate\\\"\", \n",
    "        \"(\\\"smart home\\\" OR \\\"smart home\\\") AND (\\\"energy efficiency\\\" OR \\\"energy efficient\\\")\",\n",
    "        \"(\\\"smart home\\\" OR \\\"smart home\\\") AND (\\\"rebound effect\\\" OR \\\"rebound effects\\\" OR \\\"jevons paradox\\\" OR \\\"khazzoom-brookes postulate\\\")\"\n",
    "        \"(\\\"energy efficiency\\\" OR \\\"energy efficient\\\") AND (\\\"rebound effect\\\" OR \\\"rebound effects\\\" OR \\\"jevons paradox\\\" OR \\\"khazzoom-brookes postulate\\\")\"\n",
    "        \"(\\\"smart home\\\" OR \\\"smart home\\\") AND (\\\"energy efficiency\\\" OR \\\"energy efficient\\\") AND (\\\"rebound effect\\\" OR \\\"rebound effects\\\" OR \\\"jevons paradox\\\" OR \\\"khazzoom-brookes postulate\\\")\"\n",
    "\n",
    "\n",
    "    ]"
   ]
  },
  {
   "cell_type": "code",
   "execution_count": 4,
   "metadata": {},
   "outputs": [
    {
     "data": {
      "text/plain": [
       "'(\"smart home\" OR \"smart home\") AND (\"energy efficiency\" OR \"energy efficient\") AND (\"rebound effect\" OR \"rebound effects\" OR \"jevons paradox\" OR \"khazzoom-brookes postulate\")'"
      ]
     },
     "execution_count": 4,
     "metadata": {},
     "output_type": "execute_result"
    }
   ],
   "source": [
    "        '\"smart home\" OR \"smart homes\"'\n",
    "        '\"energy efficiency\" OR \"energy efficient\"'\n",
    "        '\"rebound effect\" OR \"rebound effects\" OR \"jevons paradox\" OR \"khazzoom-brookes postulate\"'\n",
    "        \"(\\\"smart home\\\" OR \\\"smart home\\\") AND (\\\"energy efficiency\\\" OR \\\"energy efficient\\\")\",\n",
    "        \"(\\\"smart home\\\" OR \\\"smart home\\\") AND (\\\"rebound effect\\\" OR \\\"rebound effects\\\" OR \\\"jevons paradox\\\" OR \\\"khazzoom-brookes postulate\\\")\"\n",
    "        \"(\\\"energy efficiency\\\" OR \\\"energy efficient\\\") AND (\\\"rebound effect\\\" OR \\\"rebound effects\\\" OR \\\"jevons paradox\\\" OR \\\"khazzoom-brookes postulate\\\")\"\n",
    "        \"(\\\"smart home\\\" OR \\\"smart home\\\") AND (\\\"energy efficiency\\\" OR \\\"energy efficient\\\") AND (\\\"rebound effect\\\" OR \\\"rebound effects\\\" OR \\\"jevons paradox\\\" OR \\\"khazzoom-brookes postulate\\\")\"\n"
   ]
  },
  {
   "cell_type": "code",
   "execution_count": 5,
   "metadata": {},
   "outputs": [],
   "source": [
    "science_direct_search_queries = [\n",
    "       \"\\\"\\\\\\\"smart home\\\\\\\" OR \\\\\\\"smart home\\\\\\\"\\\"\",\n",
    "        \"\\\"\\\\\\\"energy efficiency\\\\\\\" OR \\\\\\\"energy efficient\\\\\\\"\\\"\",\n",
    "        \"\\\"\\\\\\\"rebound effect\\\\\\\" OR \\\\\\\"rebound effects\\\\\\\" OR \\\\\\\"jevons paradox\\\\\\\" OR \\\\\\\"khazzoom-brookes postulate\\\\\\\"\\\"\",        \n",
    "        \"\\\"(\\\\\\\"smart home\\\\\\\" OR \\\\\\\"smart home\\\\\\\") AND (\\\\\\\"energy efficiency\\\\\\\" OR \\\\\\\"energy efficient\\\\\\\")\\\"\",\n",
    "        \"\\\"(\\\\\\\"smart home\\\\\\\" OR \\\\\\\"smart home\\\\\\\") AND (\\\\\\\"rebound effect\\\\\\\" OR \\\\\\\"rebound effects\\\\\\\" OR \\\\\\\"jevons paradox\\\\\\\" OR \\\\\\\"khazzoom-brookes postulate\\\\\\\")\\\"\",\n",
    "        \"\\\"(\\\\\\\"energy efficiency\\\\\\\" OR \\\\\\\"energy efficient\\\\\\\") AND (\\\\\\\"rebound effect\\\\\\\" OR \\\\\\\"rebound effects\\\\\\\" OR \\\\\\\"jevons paradox\\\\\\\" OR \\\\\\\"khazzoom-brookes postulate\\\\\\\")\\\"\",\n",
    "       \"\\\"(\\\\\\\"smart home\\\\\\\" OR \\\\\\\"smart home\\\\\\\") AND (\\\\\\\"energy efficiency\\\\\\\" OR \\\\\\\"energy efficient\\\\\\\") AND (\\\\\\\"rebound effect\\\\\\\" OR \\\\\\\"rebound effects\\\\\\\" OR \\\\\\\"jevons paradox\\\\\\\" OR \\\\\\\"khazzoom-brookes postulate\\\\\\\")\\\"\"  \n",
    "    ]"
   ]
  },
  {
   "cell_type": "code",
   "execution_count": 6,
   "metadata": {
    "scrolled": false
   },
   "outputs": [
    {
     "name": "stdout",
     "output_type": "stream",
     "text": [
      "2015-2016\n",
      "https://api.elsevier.com/content/search/sciencedirect?date=2015-2016&start=0&cursor=*&count=25&tak=\"\\\"smart home\\\" OR \\\"smart home\\\"\"&apiKey=7204ce63f69204c4c56fe50fffbfc172&httpAccept=application%2Fjson&insttoken=2fe87d6f56fc41a3a6ba27bca6bfbeca\n",
      "\"\\\"smart home\\\" OR \\\"smart home\\\"\" None\n",
      "2016-2017\n",
      "https://api.elsevier.com/content/search/sciencedirect?date=2016-2017&start=0&cursor=*&count=25&tak=\"\\\"smart home\\\" OR \\\"smart home\\\"\"&apiKey=7204ce63f69204c4c56fe50fffbfc172&httpAccept=application%2Fjson&insttoken=2fe87d6f56fc41a3a6ba27bca6bfbeca\n",
      "\"\\\"smart home\\\" OR \\\"smart home\\\"\" None\n"
     ]
    },
    {
     "ename": "KeyboardInterrupt",
     "evalue": "",
     "output_type": "error",
     "traceback": [
      "\u001b[1;31m---------------------------------------------------------------------------\u001b[0m",
      "\u001b[1;31mKeyboardInterrupt\u001b[0m                         Traceback (most recent call last)",
      "Input \u001b[1;32mIn [6]\u001b[0m, in \u001b[0;36m<cell line: 1>\u001b[1;34m()\u001b[0m\n\u001b[0;32m      4\u001b[0m obj \u001b[38;5;241m=\u001b[39m GetTotal(database, search_term, \u001b[38;5;124m\"\u001b[39m\u001b[38;5;124mscience_direct_all.csv\u001b[39m\u001b[38;5;124m\"\u001b[39m, \u001b[38;5;241m0\u001b[39m, year)\n\u001b[0;32m      5\u001b[0m \u001b[38;5;28mprint\u001b[39m(search_term, obj\u001b[38;5;241m.\u001b[39msearch())\n\u001b[1;32m----> 6\u001b[0m \u001b[43mtime\u001b[49m\u001b[38;5;241;43m.\u001b[39;49m\u001b[43msleep\u001b[49m\u001b[43m(\u001b[49m\u001b[38;5;241;43m3\u001b[39;49m\u001b[43m)\u001b[49m\n",
      "\u001b[1;31mKeyboardInterrupt\u001b[0m: "
     ]
    }
   ],
   "source": [
    "for search_term in science_direct_search_queries:  \n",
    "    for year in ['2015-2016', '2016-2017', '2017-2018', '2018-2019', '2019-2020', '2020-2021', '2021-2022']:\n",
    "        print(year)\n",
    "        obj = GetTotal(database, search_term, \"science_direct_all.csv\", 0, year)\n",
    "        print(search_term, obj.search())\n",
    "        time.sleep(3)"
   ]
  },
  {
   "cell_type": "code",
   "execution_count": null,
   "metadata": {},
   "outputs": [],
   "source": []
  },
  {
   "cell_type": "code",
   "execution_count": null,
   "metadata": {},
   "outputs": [],
   "source": []
  },
  {
   "cell_type": "code",
   "execution_count": null,
   "metadata": {},
   "outputs": [],
   "source": [
    "scopus_search_queries_2 = [\n",
    "        'smart home*',\n",
    "        '\"energy\" AND \"efficien*\"',\n",
    "        '\"rebound effect\" OR \"jevons paradox\" OR \"khazzoom-brookes postulate\"', \n",
    "        '\"smart home*\" AND \"energy\" AND \"efficien*\"',\n",
    "        '\"smart home*\" AND (\"rebound effect\" OR \"jevons paradox\" OR \"khazzoom-brookes postulate\")',\n",
    "        '\"energy\" AND \"efficien*\" AND (\"rebound effect\" OR \"jevons paradox\" OR \"khazzoom-brookes postulate\")',\n",
    "        '\"energy\" AND \"efficien*\" AND \"smart home*\" AND (\"rebound effect\" OR \"jevons paradox\" OR \"khazzoom-brookes postulate\")',    \n",
    "    ]\n",
    "\n",
    "for search_term in scopus_search_queries_2:    \n",
    "    obj = GetTotal(database, search_term, \"temp.csv\", 0)\n",
    "    print(search_term, obj.search())"
   ]
  },
  {
   "cell_type": "code",
   "execution_count": null,
   "metadata": {},
   "outputs": [],
   "source": [
    "{\"a\":[]}"
   ]
  },
  {
   "cell_type": "code",
   "execution_count": null,
   "metadata": {},
   "outputs": [],
   "source": [
    "import pandas as pd"
   ]
  },
  {
   "cell_type": "code",
   "execution_count": null,
   "metadata": {},
   "outputs": [],
   "source": [
    "pd.DataFrame(data=[[1,2],[3,4]], columns=[\"a\", \"b\"])"
   ]
  },
  {
   "cell_type": "code",
   "execution_count": null,
   "metadata": {},
   "outputs": [],
   "source": []
  }
 ],
 "metadata": {
  "kernelspec": {
   "display_name": "Python 3 (ipykernel)",
   "language": "python",
   "name": "python3"
  },
  "language_info": {
   "codemirror_mode": {
    "name": "ipython",
    "version": 3
   },
   "file_extension": ".py",
   "mimetype": "text/x-python",
   "name": "python",
   "nbconvert_exporter": "python",
   "pygments_lexer": "ipython3",
   "version": "3.10.4"
  }
 },
 "nbformat": 4,
 "nbformat_minor": 4
}
