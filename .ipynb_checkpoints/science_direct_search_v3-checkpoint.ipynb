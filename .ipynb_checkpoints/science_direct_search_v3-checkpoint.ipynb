{
 "cells": [
  {
   "cell_type": "code",
   "execution_count": 1,
   "metadata": {},
   "outputs": [],
   "source": [
    "from article_full_text import ArticleContent"
   ]
  },
  {
   "cell_type": "code",
   "execution_count": 2,
   "metadata": {},
   "outputs": [],
   "source": [
    "database = 'scopus'\n",
    "db_dir = 'docs_scopus'\n",
    "fname = 'scopus_all.csv'"
   ]
  },
  {
   "cell_type": "code",
   "execution_count": 3,
   "metadata": {},
   "outputs": [
    {
     "name": "stdout",
     "output_type": "stream",
     "text": [
      "Found 10.1016/j.reseneeco.2021.101275/docs_scopus/10.1016$&$j.reseneeco.2021.101275.txt\n",
      "https://api.elsevier.com/content/abstract/doi/10.1016/j.jclepro.2021.129847?apiKey=7204ce63f69204c4c56fe50fffbfc172&insttoken=2fe87d6f56fc41a3a6ba27bca6bfbeca&httpAccept=application%2Fjson\n",
      "Found 10.1016/j.spc.2021.10.013/docs_scopus/10.1016$&$j.spc.2021.10.013.txt\n",
      "Found 10.1016/j.energy.2021.121517/docs_scopus/10.1016$&$j.energy.2021.121517.txt\n",
      "Found 10.3390/en14238009/docs_scopus/10.3390$&$en14238009.txt\n",
      "Found 10.1016/j.cobeha.2021.02.008/docs_scopus/10.1016$&$j.cobeha.2021.02.008.txt\n",
      "Found 10.35833/MPCE.2019.000449/docs_scopus/10.35833$&$MPCE.2019.000449.txt\n",
      "Found 10.3390/en14227810/docs_scopus/10.3390$&$en14227810.txt\n",
      "Found 10.1016/j.reseneeco.2021.101265/docs_scopus/10.1016$&$j.reseneeco.2021.101265.txt\n",
      "Found 10.1016/j.jclepro.2021.128966/docs_scopus/10.1016$&$j.jclepro.2021.128966.txt\n",
      "Found 10.3390/en14206829/docs_scopus/10.3390$&$en14206829.txt\n",
      "Found 10.3390/en14196109/docs_scopus/10.3390$&$en14196109.txt\n",
      "Found 10.1016/j.erss.2021.102211/docs_scopus/10.1016$&$j.erss.2021.102211.txt\n",
      "Found 10.1016/j.apenergy.2021.117310/docs_scopus/10.1016$&$j.apenergy.2021.117310.txt\n",
      "Found 10.1016/j.seta.2021.101370/docs_scopus/10.1016$&$j.seta.2021.101370.txt\n",
      "Found 10.1016/j.enbuild.2021.111094/docs_scopus/10.1016$&$j.enbuild.2021.111094.txt\n",
      "Found 10.1016/j.rser.2021.111205/docs_scopus/10.1016$&$j.rser.2021.111205.txt\n",
      "Found 10.1016/j.jclepro.2021.127845/docs_scopus/10.1016$&$j.jclepro.2021.127845.txt\n",
      "Found 10.3390/su13169222/docs_scopus/10.3390$&$su13169222.txt\n",
      "Found 10.1016/j.techsoc.2021.101638/docs_scopus/10.1016$&$j.techsoc.2021.101638.txt\n",
      "Found 10.1007/s11277-021-08419-x/docs_scopus/10.1007$&$s11277-021-08419-x.txt\n",
      "Found 10.1007/s00607-020-00900-y/docs_scopus/10.1007$&$s00607-020-00900-y.txt\n",
      "Found 10.1016/j.jclepro.2021.127273/docs_scopus/10.1016$&$j.jclepro.2021.127273.txt\n",
      "Found 10.3390/en14134038/docs_scopus/10.3390$&$en14134038.txt\n",
      "Found 10.1109/TIA.2021.3067864/docs_scopus/10.1109$&$TIA.2021.3067864.txt\n",
      "Found 10.1016/j.jclepro.2021.127041/docs_scopus/10.1016$&$j.jclepro.2021.127041.txt\n",
      "Found 10.3390/en14123556/docs_scopus/10.3390$&$en14123556.txt\n",
      "Found 10.3390/su13116043/docs_scopus/10.3390$&$su13116043.txt\n",
      "Found 10.1016/j.jup.2021.101223/docs_scopus/10.1016$&$j.jup.2021.101223.txt\n",
      "Found 10.1016/j.enpol.2021.112196/docs_scopus/10.1016$&$j.enpol.2021.112196.txt\n",
      "Found 10.1016/j.eist.2021.01.003/docs_scopus/10.1016$&$j.eist.2021.01.003.txt\n",
      "Found 10.1051/e3sconf/202126304015/docs_scopus/10.1051$&$e3sconf$&$202126304015.txt\n",
      "Found 10.3390/en14092502/docs_scopus/10.3390$&$en14092502.txt\n",
      "Found 10.1007/s41025-021-00222-7/docs_scopus/10.1007$&$s41025-021-00222-7.txt\n",
      "Found 10.1016/j.rser.2021.110847/docs_scopus/10.1016$&$j.rser.2021.110847.txt\n",
      "Found 10.1088/1748-9326/abd81a/docs_scopus/10.1088$&$1748-9326$&$abd81a.txt\n",
      "Found 10.1016/j.scs.2020.102693/docs_scopus/10.1016$&$j.scs.2020.102693.txt\n",
      "Found 10.1111/jiec.13052/docs_scopus/10.1111$&$jiec.13052.txt\n",
      "Found 10.3390/su13063380/docs_scopus/10.3390$&$su13063380.txt\n",
      "Found 10.3390/su13063146/docs_scopus/10.3390$&$su13063146.txt\n",
      "Found 10.1109/TLA.2021.9447584/docs_scopus/10.1109$&$TLA.2021.9447584.txt\n",
      "Found 10.1016/j.energy.2020.119438/docs_scopus/10.1016$&$j.energy.2020.119438.txt\n",
      "Found 10.1016/j.jclepro.2020.124145/docs_scopus/10.1016$&$j.jclepro.2020.124145.txt\n",
      "Found 10.1016/j.apenergy.2020.116131/docs_scopus/10.1016$&$j.apenergy.2020.116131.txt\n",
      "Found 10.1007/s11356-021-16560-0/docs_scopus/10.1007$&$s11356-021-16560-0.txt\n",
      "Found 10.1080/17512549.2019.1575770/docs_scopus/10.1080$&$17512549.2019.1575770.txt\n",
      "Found 10.1109/ACCESS.2021.3082430/docs_scopus/10.1109$&$ACCESS.2021.3082430.txt\n",
      "Found 10.3390/en14102795/docs_scopus/10.3390$&$en14102795.txt\n",
      "Found 10.1007/978-3-030-57332-4_36/docs_scopus/10.1007$&$978-3-030-57332-4_36.txt\n",
      "Found 10.3390/app11093992/docs_scopus/10.3390$&$app11093992.txt\n",
      "Found 10.1080/15567249.2021.1873460/docs_scopus/10.1080$&$15567249.2021.1873460.txt\n",
      "Found 10.1007/s12053-020-09910-3/docs_scopus/10.1007$&$s12053-020-09910-3.txt\n",
      "Found 10.1080/09537325.2020.1841895/docs_scopus/10.1080$&$09537325.2020.1841895.txt\n",
      "Found 10.1016/j.erss.2020.101828/docs_scopus/10.1016$&$j.erss.2020.101828.txt\n",
      "Found 10.1016/j.enpol.2020.112006/docs_scopus/10.1016$&$j.enpol.2020.112006.txt\n",
      "Found 10.1016/j.scs.2020.102526/docs_scopus/10.1016$&$j.scs.2020.102526.txt\n",
      "Found 10.1002/er.5631/docs_scopus/10.1002$&$er.5631.txt\n",
      "https://api.elsevier.com/content/abstract/doi/10.1515/pwp-2018-0039?apiKey=7204ce63f69204c4c56fe50fffbfc172&insttoken=2fe87d6f56fc41a3a6ba27bca6bfbeca&httpAccept=application%2Fjson\n",
      "Found 10.1016/j.enbuild.2020.110404/docs_scopus/10.1016$&$j.enbuild.2020.110404.txt\n",
      "Found 10.1016/j.enbuild.2020.110397/docs_scopus/10.1016$&$j.enbuild.2020.110397.txt\n",
      "Found 10.1109/UV50937.2020.9426217/docs_scopus/10.1109$&$UV50937.2020.9426217.txt\n",
      "Found 10.1016/j.rser.2020.109990/docs_scopus/10.1016$&$j.rser.2020.109990.txt\n",
      "Found 10.1016/j.ecolecon.2020.106760/docs_scopus/10.1016$&$j.ecolecon.2020.106760.txt\n",
      "Found 10.1007/s11356-020-09497-3/docs_scopus/10.1007$&$s11356-020-09497-3.txt\n",
      "Found 10.3390/SU12176699/docs_scopus/10.3390$&$SU12176699.txt\n",
      "Found 10.1109/TSG.2020.2985741/docs_scopus/10.1109$&$TSG.2020.2985741.txt\n",
      "Found 10.1016/j.enpol.2020.111657/docs_scopus/10.1016$&$j.enpol.2020.111657.txt\n",
      "Found 10.1016/j.jclepro.2020.121755/docs_scopus/10.1016$&$j.jclepro.2020.121755.txt\n",
      "Found 10.3390/PR8080994/docs_scopus/10.3390$&$PR8080994.txt\n",
      "Found 10.1016/j.ijinfomgt.2020.102104/docs_scopus/10.1016$&$j.ijinfomgt.2020.102104.txt\n",
      "Found 10.3390/en13143665/docs_scopus/10.3390$&$en13143665.txt\n",
      "Found 10.1016/j.apenergy.2020.115117/docs_scopus/10.1016$&$j.apenergy.2020.115117.txt\n",
      "Found 10.1002/wcc.647/docs_scopus/10.1002$&$wcc.647.txt\n",
      "Found 10.1016/j.erss.2020.101455/docs_scopus/10.1016$&$j.erss.2020.101455.txt\n",
      "Found 10.1016/j.rser.2020.109798/docs_scopus/10.1016$&$j.rser.2020.109798.txt\n",
      "Found 10.1016/j.enbuild.2020.109887/docs_scopus/10.1016$&$j.enbuild.2020.109887.txt\n",
      "Found 10.1016/j.enbuild.2020.109841/docs_scopus/10.1016$&$j.enbuild.2020.109841.txt\n",
      "Found 10.1016/j.spc.2020.03.001/docs_scopus/10.1016$&$j.spc.2020.03.001.txt\n",
      "Found 10.1016/j.apenergy.2020.114526/docs_scopus/10.1016$&$j.apenergy.2020.114526.txt\n",
      "Found 10.3390/joitmc6010008/docs_scopus/10.3390$&$joitmc6010008.txt\n",
      "Found 10.1007/s12053-019-09797-9/docs_scopus/10.1007$&$s12053-019-09797-9.txt\n",
      "Found 10.4324/9781003030881/docs_scopus/10.4324$&$9781003030881.txt\n",
      "Found 10.1093/oxfordhb/9780190932596.013.7/docs_scopus/10.1093$&$oxfordhb$&$9780190932596.013.7.txt\n",
      "Found 10.1109/ACCESS.2020.3034767/docs_scopus/10.1109$&$ACCESS.2020.3034767.txt\n",
      "Found 10.1504/IJETP.2020.107019/docs_scopus/10.1504$&$IJETP.2020.107019.txt\n",
      "Found 10.1109/ACCESS.2020.2980785/docs_scopus/10.1109$&$ACCESS.2020.2980785.txt\n",
      "Found 10.17705/1CAIS.04616/docs_scopus/10.17705$&$1CAIS.04616.txt\n",
      "https://api.elsevier.com/content/abstract/doi/10.1016/j.techfore.2019.119780?apiKey=7204ce63f69204c4c56fe50fffbfc172&insttoken=2fe87d6f56fc41a3a6ba27bca6bfbeca&httpAccept=application%2Fjson\n",
      "Found 10.1016/j.jclepro.2019.118332/docs_scopus/10.1016$&$j.jclepro.2019.118332.txt\n",
      "Found 10.1016/j.energy.2019.115978/docs_scopus/10.1016$&$j.energy.2019.115978.txt\n",
      "Found 10.1007/s40095-019-0302-3/docs_scopus/10.1007$&$s40095-019-0302-3.txt\n",
      "Found 10.1088/1742-6596/1343/1/012055/docs_scopus/10.1088$&$1742-6596$&$1343$&$1$&$012055.txt\n",
      "Found 10.3390/en12224250/docs_scopus/10.3390$&$en12224250.txt\n",
      "Found 10.3390/su11205559/docs_scopus/10.3390$&$su11205559.txt\n",
      "https://api.elsevier.com/content/abstract/doi/10.3390/en12183543?apiKey=7204ce63f69204c4c56fe50fffbfc172&insttoken=2fe87d6f56fc41a3a6ba27bca6bfbeca&httpAccept=application%2Fjson\n",
      "https://api.elsevier.com/content/abstract/doi/10.1016/j.apenergy.2019.04.191?apiKey=7204ce63f69204c4c56fe50fffbfc172&insttoken=2fe87d6f56fc41a3a6ba27bca6bfbeca&httpAccept=application%2Fjson\n",
      "https://api.elsevier.com/content/abstract/doi/10.1016/j.rser.2019.05.038?apiKey=7204ce63f69204c4c56fe50fffbfc172&insttoken=2fe87d6f56fc41a3a6ba27bca6bfbeca&httpAccept=application%2Fjson\n",
      "https://api.elsevier.com/content/abstract/doi/10.1111/1477-8947.12174?apiKey=7204ce63f69204c4c56fe50fffbfc172&insttoken=2fe87d6f56fc41a3a6ba27bca6bfbeca&httpAccept=application%2Fjson\n"
     ]
    },
    {
     "name": "stdout",
     "output_type": "stream",
     "text": [
      "https://api.elsevier.com/content/abstract/doi/10.1016/j.erss.2019.03.015?apiKey=7204ce63f69204c4c56fe50fffbfc172&insttoken=2fe87d6f56fc41a3a6ba27bca6bfbeca&httpAccept=application%2Fjson\n",
      "https://api.elsevier.com/content/abstract/doi/10.1016/j.enbuild.2019.04.026?apiKey=7204ce63f69204c4c56fe50fffbfc172&insttoken=2fe87d6f56fc41a3a6ba27bca6bfbeca&httpAccept=application%2Fjson\n",
      "https://api.elsevier.com/content/abstract/doi/10.1109/YEF-ECE.2019.8740824?apiKey=7204ce63f69204c4c56fe50fffbfc172&insttoken=2fe87d6f56fc41a3a6ba27bca6bfbeca&httpAccept=application%2Fjson\n",
      "https://api.elsevier.com/content/abstract/doi/10.1126/science.aau8825?apiKey=7204ce63f69204c4c56fe50fffbfc172&insttoken=2fe87d6f56fc41a3a6ba27bca6bfbeca&httpAccept=application%2Fjson\n",
      "https://api.elsevier.com/content/abstract/doi/10.3390/en12081537?apiKey=7204ce63f69204c4c56fe50fffbfc172&insttoken=2fe87d6f56fc41a3a6ba27bca6bfbeca&httpAccept=application%2Fjson\n",
      "https://api.elsevier.com/content/abstract/doi/10.1007/978-981-13-6420-4?apiKey=7204ce63f69204c4c56fe50fffbfc172&insttoken=2fe87d6f56fc41a3a6ba27bca6bfbeca&httpAccept=application%2Fjson\n",
      "https://api.elsevier.com/content/abstract/doi/10.1016/C2018-0-02749-8?apiKey=7204ce63f69204c4c56fe50fffbfc172&insttoken=2fe87d6f56fc41a3a6ba27bca6bfbeca&httpAccept=application%2Fjson\n",
      "https://api.elsevier.com/content/abstract/doi/10.1109/ACCESS.2019.2926638?apiKey=7204ce63f69204c4c56fe50fffbfc172&insttoken=2fe87d6f56fc41a3a6ba27bca6bfbeca&httpAccept=application%2Fjson\n",
      "https://api.elsevier.com/content/abstract/doi/10.3390/en12112069?apiKey=7204ce63f69204c4c56fe50fffbfc172&insttoken=2fe87d6f56fc41a3a6ba27bca6bfbeca&httpAccept=application%2Fjson\n",
      "https://api.elsevier.com/content/abstract/doi/10.1109/ACCESS.2018.2886146?apiKey=7204ce63f69204c4c56fe50fffbfc172&insttoken=2fe87d6f56fc41a3a6ba27bca6bfbeca&httpAccept=application%2Fjson\n",
      "https://api.elsevier.com/content/abstract/doi/10.1016/j.cie.2018.09.050?apiKey=7204ce63f69204c4c56fe50fffbfc172&insttoken=2fe87d6f56fc41a3a6ba27bca6bfbeca&httpAccept=application%2Fjson\n",
      "https://api.elsevier.com/content/abstract/doi/10.1016/j.enpol.2018.07.056?apiKey=7204ce63f69204c4c56fe50fffbfc172&insttoken=2fe87d6f56fc41a3a6ba27bca6bfbeca&httpAccept=application%2Fjson\n",
      "https://api.elsevier.com/content/abstract/doi/10.1016/j.rser.2018.07.023?apiKey=7204ce63f69204c4c56fe50fffbfc172&insttoken=2fe87d6f56fc41a3a6ba27bca6bfbeca&httpAccept=application%2Fjson\n",
      "https://api.elsevier.com/content/abstract/doi/10.1016/j.erss.2018.07.007?apiKey=7204ce63f69204c4c56fe50fffbfc172&insttoken=2fe87d6f56fc41a3a6ba27bca6bfbeca&httpAccept=application%2Fjson\n",
      "https://api.elsevier.com/content/abstract/doi/10.1109/TPWRS.2018.2846270?apiKey=7204ce63f69204c4c56fe50fffbfc172&insttoken=2fe87d6f56fc41a3a6ba27bca6bfbeca&httpAccept=application%2Fjson\n",
      "https://api.elsevier.com/content/abstract/doi/10.1016/j.apenergy.2018.06.082?apiKey=7204ce63f69204c4c56fe50fffbfc172&insttoken=2fe87d6f56fc41a3a6ba27bca6bfbeca&httpAccept=application%2Fjson\n",
      "https://api.elsevier.com/content/abstract/doi/10.1080/09613218.2018.1426810?apiKey=7204ce63f69204c4c56fe50fffbfc172&insttoken=2fe87d6f56fc41a3a6ba27bca6bfbeca&httpAccept=application%2Fjson\n",
      "https://api.elsevier.com/content/abstract/doi/10.1016/j.jclepro.2018.06.170?apiKey=7204ce63f69204c4c56fe50fffbfc172&insttoken=2fe87d6f56fc41a3a6ba27bca6bfbeca&httpAccept=application%2Fjson\n",
      "https://api.elsevier.com/content/abstract/doi/10.3390/su10082816?apiKey=7204ce63f69204c4c56fe50fffbfc172&insttoken=2fe87d6f56fc41a3a6ba27bca6bfbeca&httpAccept=application%2Fjson\n",
      "https://api.elsevier.com/content/abstract/doi/10.1109/JIOT.2017.2755376?apiKey=7204ce63f69204c4c56fe50fffbfc172&insttoken=2fe87d6f56fc41a3a6ba27bca6bfbeca&httpAccept=application%2Fjson\n",
      "https://api.elsevier.com/content/abstract/doi/10.1109/ACCESS.2018.2852811?apiKey=7204ce63f69204c4c56fe50fffbfc172&insttoken=2fe87d6f56fc41a3a6ba27bca6bfbeca&httpAccept=application%2Fjson\n",
      "https://api.elsevier.com/content/abstract/doi/10.1016/j.enpol.2018.03.045?apiKey=7204ce63f69204c4c56fe50fffbfc172&insttoken=2fe87d6f56fc41a3a6ba27bca6bfbeca&httpAccept=application%2Fjson\n",
      "https://api.elsevier.com/content/abstract/doi/10.1016/j.tej.2018.06.003?apiKey=7204ce63f69204c4c56fe50fffbfc172&insttoken=2fe87d6f56fc41a3a6ba27bca6bfbeca&httpAccept=application%2Fjson\n",
      "https://api.elsevier.com/content/abstract/doi/10.1016/j.erss.2017.11.004?apiKey=7204ce63f69204c4c56fe50fffbfc172&insttoken=2fe87d6f56fc41a3a6ba27bca6bfbeca&httpAccept=application%2Fjson\n",
      "https://api.elsevier.com/content/abstract/doi/10.1007/s40518-018-0106-8?apiKey=7204ce63f69204c4c56fe50fffbfc172&insttoken=2fe87d6f56fc41a3a6ba27bca6bfbeca&httpAccept=application%2Fjson\n",
      "https://api.elsevier.com/content/abstract/doi/10.1007/s40518-018-0098-4?apiKey=7204ce63f69204c4c56fe50fffbfc172&insttoken=2fe87d6f56fc41a3a6ba27bca6bfbeca&httpAccept=application%2Fjson\n",
      "https://api.elsevier.com/content/abstract/doi/10.1088/1748-9326/aaab92?apiKey=7204ce63f69204c4c56fe50fffbfc172&insttoken=2fe87d6f56fc41a3a6ba27bca6bfbeca&httpAccept=application%2Fjson\n",
      "https://api.elsevier.com/content/abstract/doi/10.1177/0958305X17741385?apiKey=7204ce63f69204c4c56fe50fffbfc172&insttoken=2fe87d6f56fc41a3a6ba27bca6bfbeca&httpAccept=application%2Fjson\n",
      "https://api.elsevier.com/content/abstract/doi/10.1080/09613218.2017.1301707?apiKey=7204ce63f69204c4c56fe50fffbfc172&insttoken=2fe87d6f56fc41a3a6ba27bca6bfbeca&httpAccept=application%2Fjson\n",
      "https://api.elsevier.com/content/abstract/doi/10.29007/d6g3?apiKey=7204ce63f69204c4c56fe50fffbfc172&insttoken=2fe87d6f56fc41a3a6ba27bca6bfbeca&httpAccept=application%2Fjson\n",
      "https://api.elsevier.com/content/abstract/doi/10.29007/s8s3?apiKey=7204ce63f69204c4c56fe50fffbfc172&insttoken=2fe87d6f56fc41a3a6ba27bca6bfbeca&httpAccept=application%2Fjson\n",
      "https://api.elsevier.com/content/abstract/doi/10.1016/C2017-0-00713-9?apiKey=7204ce63f69204c4c56fe50fffbfc172&insttoken=2fe87d6f56fc41a3a6ba27bca6bfbeca&httpAccept=application%2Fjson\n",
      "https://api.elsevier.com/content/abstract/doi/10.1016/B978-0-12-812817-6.00008-5?apiKey=7204ce63f69204c4c56fe50fffbfc172&insttoken=2fe87d6f56fc41a3a6ba27bca6bfbeca&httpAccept=application%2Fjson\n",
      "https://api.elsevier.com/content/abstract/doi/10.1016/j.egypro.2018.07.026?apiKey=7204ce63f69204c4c56fe50fffbfc172&insttoken=2fe87d6f56fc41a3a6ba27bca6bfbeca&httpAccept=application%2Fjson\n",
      "https://api.elsevier.com/content/abstract/doi/10.1007/978-3-319-92252-2_21?apiKey=7204ce63f69204c4c56fe50fffbfc172&insttoken=2fe87d6f56fc41a3a6ba27bca6bfbeca&httpAccept=application%2Fjson\n",
      "https://api.elsevier.com/content/abstract/doi/10.3390/en11010241?apiKey=7204ce63f69204c4c56fe50fffbfc172&insttoken=2fe87d6f56fc41a3a6ba27bca6bfbeca&httpAccept=application%2Fjson\n",
      "https://api.elsevier.com/content/abstract/doi/10.1016/j.rser.2017.06.093?apiKey=7204ce63f69204c4c56fe50fffbfc172&insttoken=2fe87d6f56fc41a3a6ba27bca6bfbeca&httpAccept=application%2Fjson\n",
      "https://api.elsevier.com/content/abstract/doi/10.1016/j.rser.2017.06.027?apiKey=7204ce63f69204c4c56fe50fffbfc172&insttoken=2fe87d6f56fc41a3a6ba27bca6bfbeca&httpAccept=application%2Fjson\n",
      "https://api.elsevier.com/content/abstract/doi/10.1016/j.jclepro.2017.07.188?apiKey=7204ce63f69204c4c56fe50fffbfc172&insttoken=2fe87d6f56fc41a3a6ba27bca6bfbeca&httpAccept=application%2Fjson\n",
      "https://api.elsevier.com/content/abstract/doi/10.1016/j.eneco.2017.09.009?apiKey=7204ce63f69204c4c56fe50fffbfc172&insttoken=2fe87d6f56fc41a3a6ba27bca6bfbeca&httpAccept=application%2Fjson\n",
      "https://api.elsevier.com/content/abstract/doi/10.1016/j.erss.2017.07.007?apiKey=7204ce63f69204c4c56fe50fffbfc172&insttoken=2fe87d6f56fc41a3a6ba27bca6bfbeca&httpAccept=application%2Fjson\n",
      "https://api.elsevier.com/content/abstract/doi/10.1016/j.erss.2017.03.009?apiKey=7204ce63f69204c4c56fe50fffbfc172&insttoken=2fe87d6f56fc41a3a6ba27bca6bfbeca&httpAccept=application%2Fjson\n",
      "https://api.elsevier.com/content/abstract/doi/10.1007/s12053-017-9514-7?apiKey=7204ce63f69204c4c56fe50fffbfc172&insttoken=2fe87d6f56fc41a3a6ba27bca6bfbeca&httpAccept=application%2Fjson\n",
      "https://api.elsevier.com/content/abstract/doi/10.1016/j.erss.2017.02.008?apiKey=7204ce63f69204c4c56fe50fffbfc172&insttoken=2fe87d6f56fc41a3a6ba27bca6bfbeca&httpAccept=application%2Fjson\n",
      "https://api.elsevier.com/content/abstract/doi/10.4324/9781351286206?apiKey=7204ce63f69204c4c56fe50fffbfc172&insttoken=2fe87d6f56fc41a3a6ba27bca6bfbeca&httpAccept=application%2Fjson\n"
     ]
    },
    {
     "name": "stdout",
     "output_type": "stream",
     "text": [
      "https://api.elsevier.com/content/abstract/doi/10.1007/978-3-319-62494-5?apiKey=7204ce63f69204c4c56fe50fffbfc172&insttoken=2fe87d6f56fc41a3a6ba27bca6bfbeca&httpAccept=application%2Fjson\n",
      "https://api.elsevier.com/content/abstract/doi/10.1007/s40518-017-0065-5?apiKey=7204ce63f69204c4c56fe50fffbfc172&insttoken=2fe87d6f56fc41a3a6ba27bca6bfbeca&httpAccept=application%2Fjson\n",
      "https://api.elsevier.com/content/abstract/doi/10.1007/s13412-016-0396-3?apiKey=7204ce63f69204c4c56fe50fffbfc172&insttoken=2fe87d6f56fc41a3a6ba27bca6bfbeca&httpAccept=application%2Fjson\n",
      "https://api.elsevier.com/content/abstract/doi/10.1080/09640568.2016.1142864?apiKey=7204ce63f69204c4c56fe50fffbfc172&insttoken=2fe87d6f56fc41a3a6ba27bca6bfbeca&httpAccept=application%2Fjson\n",
      "https://api.elsevier.com/content/abstract/doi/10.1016/j.cirp.2017.06.001?apiKey=7204ce63f69204c4c56fe50fffbfc172&insttoken=2fe87d6f56fc41a3a6ba27bca6bfbeca&httpAccept=application%2Fjson\n",
      "https://api.elsevier.com/content/abstract/doi/10.1016/j.rser.2016.11.044?apiKey=7204ce63f69204c4c56fe50fffbfc172&insttoken=2fe87d6f56fc41a3a6ba27bca6bfbeca&httpAccept=application%2Fjson\n",
      "https://api.elsevier.com/content/abstract/doi/10.1016/j.rser.2016.11.100?apiKey=7204ce63f69204c4c56fe50fffbfc172&insttoken=2fe87d6f56fc41a3a6ba27bca6bfbeca&httpAccept=application%2Fjson\n",
      "https://api.elsevier.com/content/abstract/doi/10.1007/s11235-016-0156-4?apiKey=7204ce63f69204c4c56fe50fffbfc172&insttoken=2fe87d6f56fc41a3a6ba27bca6bfbeca&httpAccept=application%2Fjson\n",
      "https://api.elsevier.com/content/abstract/doi/10.1016/j.enbuild.2016.08.052?apiKey=7204ce63f69204c4c56fe50fffbfc172&insttoken=2fe87d6f56fc41a3a6ba27bca6bfbeca&httpAccept=application%2Fjson\n",
      "https://api.elsevier.com/content/abstract/doi/10.1016/j.jclepro.2015.08.079?apiKey=7204ce63f69204c4c56fe50fffbfc172&insttoken=2fe87d6f56fc41a3a6ba27bca6bfbeca&httpAccept=application%2Fjson\n",
      "https://api.elsevier.com/content/abstract/doi/10.1007/s12053-015-9366-y?apiKey=7204ce63f69204c4c56fe50fffbfc172&insttoken=2fe87d6f56fc41a3a6ba27bca6bfbeca&httpAccept=application%2Fjson\n",
      "https://api.elsevier.com/content/abstract/doi/10.3390/resources5010003?apiKey=7204ce63f69204c4c56fe50fffbfc172&insttoken=2fe87d6f56fc41a3a6ba27bca6bfbeca&httpAccept=application%2Fjson\n",
      "https://api.elsevier.com/content/abstract/doi/10.4324/9781315674650?apiKey=7204ce63f69204c4c56fe50fffbfc172&insttoken=2fe87d6f56fc41a3a6ba27bca6bfbeca&httpAccept=application%2Fjson\n",
      "https://api.elsevier.com/content/abstract/doi/10.1016/j.enbuild.2015.06.080?apiKey=7204ce63f69204c4c56fe50fffbfc172&insttoken=2fe87d6f56fc41a3a6ba27bca6bfbeca&httpAccept=application%2Fjson\n",
      "https://api.elsevier.com/content/abstract/doi/10.1109/DUE.2015.7102984?apiKey=7204ce63f69204c4c56fe50fffbfc172&insttoken=2fe87d6f56fc41a3a6ba27bca6bfbeca&httpAccept=application%2Fjson\n",
      "https://api.elsevier.com/content/abstract/doi/10.1109/IEVC.2014.7056106?apiKey=7204ce63f69204c4c56fe50fffbfc172&insttoken=2fe87d6f56fc41a3a6ba27bca6bfbeca&httpAccept=application%2Fjson\n",
      "https://api.elsevier.com/content/abstract/doi/10.1016/j.enbuild.2014.09.077?apiKey=7204ce63f69204c4c56fe50fffbfc172&insttoken=2fe87d6f56fc41a3a6ba27bca6bfbeca&httpAccept=application%2Fjson\n",
      "https://api.elsevier.com/content/abstract/doi/10.1017/CBO9781107239029?apiKey=7204ce63f69204c4c56fe50fffbfc172&insttoken=2fe87d6f56fc41a3a6ba27bca6bfbeca&httpAccept=application%2Fjson\n",
      "https://api.elsevier.com/content/abstract/doi/10.1109/NAPS.2013.6666889?apiKey=7204ce63f69204c4c56fe50fffbfc172&insttoken=2fe87d6f56fc41a3a6ba27bca6bfbeca&httpAccept=application%2Fjson\n",
      "https://api.elsevier.com/content/abstract/doi/10.1016/j.enpol.2013.05.107?apiKey=7204ce63f69204c4c56fe50fffbfc172&insttoken=2fe87d6f56fc41a3a6ba27bca6bfbeca&httpAccept=application%2Fjson\n",
      "https://api.elsevier.com/content/abstract/doi/10.1787/9789264191709-en?apiKey=7204ce63f69204c4c56fe50fffbfc172&insttoken=2fe87d6f56fc41a3a6ba27bca6bfbeca&httpAccept=application%2Fjson\n",
      "https://api.elsevier.com/content/abstract/doi/10.1109/JPROC.2013.2270172?apiKey=7204ce63f69204c4c56fe50fffbfc172&insttoken=2fe87d6f56fc41a3a6ba27bca6bfbeca&httpAccept=application%2Fjson\n",
      "https://api.elsevier.com/content/abstract/doi/10.1016/j.respol.2012.04.002?apiKey=7204ce63f69204c4c56fe50fffbfc172&insttoken=2fe87d6f56fc41a3a6ba27bca6bfbeca&httpAccept=application%2Fjson\n",
      "https://api.elsevier.com/content/abstract/doi/10.1080/09613218.2012.683240?apiKey=7204ce63f69204c4c56fe50fffbfc172&insttoken=2fe87d6f56fc41a3a6ba27bca6bfbeca&httpAccept=application%2Fjson\n"
     ]
    }
   ],
   "source": [
    "obj = ArticleContent(database, db_dir, fname)\n",
    "obj.execute()"
   ]
  },
  {
   "cell_type": "code",
   "execution_count": 3,
   "metadata": {},
   "outputs": [
    {
     "name": "stdout",
     "output_type": "stream",
     "text": [
      "https://api.elsevier.com/content/search/scopus?start=0&cursor=*&count=25&query=\"energy efficien*\" AND \"smart home*\" AND (\"rebound effect\" OR \"jevons paradox\" OR \"khazzoom-brookes postulate\")&apiKey=7204ce63f69204c4c56fe50fffbfc172&httpAccept=application%2Fjson&insttoken=2fe87d6f56fc41a3a6ba27bca6bfbeca\n",
      "https://api.elsevier.com/content/search/scopus?cursor=AoJdwIxNMjItczIuMC04NTEwMzMwNTExOA%3D%3D&count=25&query=%22energy+efficien*%22+AND+%22smart+home*%22+AND+%28%22rebound+effect%22+OR+%22jevons+paradox%22+OR+%22khazzoom-brookes+postulate%22%29&apiKey=7204ce63f69204c4c56fe50fffbfc172&httpAccept=application%2Fjson&insttoken=2fe87d6f56fc41a3a6ba27bca6bfbeca\n",
      "https://api.elsevier.com/content/search/scopus?cursor=AoJVm4xNMjItczIuMC04NTEwNTY3Mjc2OQ%3D%3D&count=25&query=%22energy+efficien*%22+AND+%22smart+home*%22+AND+%28%22rebound+effect%22+OR+%22jevons+paradox%22+OR+%22khazzoom-brookes+postulate%22%29&apiKey=7204ce63f69204c4c56fe50fffbfc172&httpAccept=application%2Fjson&insttoken=2fe87d6f56fc41a3a6ba27bca6bfbeca\n",
      "https://api.elsevier.com/content/search/scopus?cursor=AoJZyYdNMjItczIuMC04NTA4MTAwNjY0MA%3D%3D&count=25&query=%22energy+efficien*%22+AND+%22smart+home*%22+AND+%28%22rebound+effect%22+OR+%22jevons+paradox%22+OR+%22khazzoom-brookes+postulate%22%29&apiKey=7204ce63f69204c4c56fe50fffbfc172&httpAccept=application%2Fjson&insttoken=2fe87d6f56fc41a3a6ba27bca6bfbeca\n",
      "https://api.elsevier.com/content/search/scopus?cursor=AoJd3oJNMjItczIuMC04NTA2NDU0NzA5OA%3D%3D&count=25&query=%22energy+efficien*%22+AND+%22smart+home*%22+AND+%28%22rebound+effect%22+OR+%22jevons+paradox%22+OR+%22khazzoom-brookes+postulate%22%29&apiKey=7204ce63f69204c4c56fe50fffbfc172&httpAccept=application%2Fjson&insttoken=2fe87d6f56fc41a3a6ba27bca6bfbeca\n",
      "https://api.elsevier.com/content/search/scopus?cursor=AoJV4f1MMjItczIuMC04NTAzNjY0NzI1OQ%3D%3D&count=25&query=%22energy+efficien*%22+AND+%22smart+home*%22+AND+%28%22rebound+effect%22+OR+%22jevons+paradox%22+OR+%22khazzoom-brookes+postulate%22%29&apiKey=7204ce63f69204c4c56fe50fffbfc172&httpAccept=application%2Fjson&insttoken=2fe87d6f56fc41a3a6ba27bca6bfbeca\n",
      "https://api.elsevier.com/content/search/scopus?cursor=AoJZ3fhMMjItczIuMC04NDk2NDU0MzczOA%3D%3D&count=25&query=%22energy+efficien*%22+AND+%22smart+home*%22+AND+%28%22rebound+effect%22+OR+%22jevons+paradox%22+OR+%22khazzoom-brookes+postulate%22%29&apiKey=7204ce63f69204c4c56fe50fffbfc172&httpAccept=application%2Fjson&insttoken=2fe87d6f56fc41a3a6ba27bca6bfbeca\n",
      "https://api.elsevier.com/content/search/scopus?cursor=AoJRzuBMMjItczIuMC04NDg2NDAzOTMyNQ%3D%3D&count=25&query=%22energy+efficien*%22+AND+%22smart+home*%22+AND+%28%22rebound+effect%22+OR+%22jevons+paradox%22+OR+%22khazzoom-brookes+postulate%22%29&apiKey=7204ce63f69204c4c56fe50fffbfc172&httpAccept=application%2Fjson&insttoken=2fe87d6f56fc41a3a6ba27bca6bfbeca\n",
      "\"energy efficien*\" AND \"smart home*\" AND (\"rebound effect\" OR \"jevons paradox\" OR \"khazzoom-brookes postulate\") 175\n"
     ]
    }
   ],
   "source": [
    "search_term = '\"energy efficien*\" AND \"smart home*\" AND (\"rebound effect\" OR \"jevons paradox\" OR \"khazzoom-brookes postulate\")'\n",
    "obj = GetTotal(database, search_term, \"scopus_all.csv\", 1)\n",
    "print(search_term, obj.search())"
   ]
  },
  {
   "cell_type": "code",
   "execution_count": 4,
   "metadata": {},
   "outputs": [
    {
     "ename": "SyntaxError",
     "evalue": "invalid syntax (<ipython-input-4-298996beaf95>, line 1)",
     "output_type": "error",
     "traceback": [
      "\u001b[1;36m  File \u001b[1;32m\"<ipython-input-4-298996beaf95>\"\u001b[1;36m, line \u001b[1;32m1\u001b[0m\n\u001b[1;33m    \"energy efficien*\" AND \"smart home*\" AND (\"rebound effect\" OR \"jevons paradox\" OR \"khazzoom-brookes postulate\")\u001b[0m\n\u001b[1;37m                         ^\u001b[0m\n\u001b[1;31mSyntaxError\u001b[0m\u001b[1;31m:\u001b[0m invalid syntax\n"
     ]
    }
   ],
   "source": [
    "\"energy efficien*\" AND \"smart home*\" AND (\"rebound effect\" OR \"jevons paradox\" OR \"khazzoom-brookes postulate\")"
   ]
  },
  {
   "cell_type": "code",
   "execution_count": null,
   "metadata": {},
   "outputs": [],
   "source": []
  },
  {
   "cell_type": "code",
   "execution_count": null,
   "metadata": {},
   "outputs": [],
   "source": []
  }
 ],
 "metadata": {
  "kernelspec": {
   "display_name": "Python 3",
   "language": "python",
   "name": "python3"
  },
  "language_info": {
   "codemirror_mode": {
    "name": "ipython",
    "version": 3
   },
   "file_extension": ".py",
   "mimetype": "text/x-python",
   "name": "python",
   "nbconvert_exporter": "python",
   "pygments_lexer": "ipython3",
   "version": "3.7.9"
  }
 },
 "nbformat": 4,
 "nbformat_minor": 4
}
