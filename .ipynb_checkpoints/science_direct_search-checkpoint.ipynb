{
 "cells": [
  {
   "cell_type": "code",
   "execution_count": 1,
   "metadata": {},
   "outputs": [],
   "source": [
    "from article_search_get_totals import GetTotal"
   ]
  },
  {
   "cell_type": "code",
   "execution_count": 2,
   "metadata": {},
   "outputs": [],
   "source": [
    "database = 'scopus'\n",
    "search_term =  'smart home*'"
   ]
  },
  {
   "cell_type": "code",
   "execution_count": 3,
   "metadata": {},
   "outputs": [],
   "source": [
    "scopus_search_queries = [\n",
    "        'smart home*',\n",
    "        \"energy efficien*\",\n",
    "        '\"rebound effect\" OR \"jevons paradox\" OR \"khazzoom-brookes postulate\"', \n",
    "        '\"smart home*\" AND \"energy efficien*\"',\n",
    "        '\"smart home*\" AND (\"rebound effect\" OR \"jevons paradox\" OR \"khazzoom-brookes postulate\")',\n",
    "        '\"energy efficien*\" AND (\"rebound effect\" OR \"jevons paradox\" OR \"khazzoom-brookes postulate\")',\n",
    "        '\"energy efficien*\" AND \"smart home*\" AND (\"rebound effect\" OR \"jevons paradox\" OR \"khazzoom-brookes postulate\")',    \n",
    "    ]"
   ]
  },
  {
   "cell_type": "code",
   "execution_count": 4,
   "metadata": {},
   "outputs": [
    {
     "name": "stdout",
     "output_type": "stream",
     "text": [
      "smart home* 550968\n",
      "energy efficien* 3453547\n",
      "\"rebound effect\" OR \"jevons paradox\" OR \"khazzoom-brookes postulate\" 12029\n",
      "\"smart home*\" AND \"energy efficien*\" 11781\n",
      "\"smart home*\" AND (\"rebound effect\" OR \"jevons paradox\" OR \"khazzoom-brookes postulate\") 199\n",
      "\"energy efficien*\" AND (\"rebound effect\" OR \"jevons paradox\" OR \"khazzoom-brookes postulate\") 5669\n",
      "\"energy efficien*\" AND \"smart home*\" AND (\"rebound effect\" OR \"jevons paradox\" OR \"khazzoom-brookes postulate\") 175\n"
     ]
    }
   ],
   "source": [
    "for search_term in scopus_search_queries:    \n",
    "    obj = GetTotal(database, search_term, \"scopus_all.csv\", 0)\n",
    "    print(search_term, obj.search())"
   ]
  },
  {
   "cell_type": "code",
   "execution_count": null,
   "metadata": {},
   "outputs": [],
   "source": []
  },
  {
   "cell_type": "code",
   "execution_count": null,
   "metadata": {},
   "outputs": [],
   "source": []
  },
  {
   "cell_type": "code",
   "execution_count": 5,
   "metadata": {},
   "outputs": [
    {
     "name": "stdout",
     "output_type": "stream",
     "text": [
      "smart home* 550968\n",
      "\"energy\" AND \"efficien*\" 3453547\n",
      "\"rebound effect\" OR \"jevons paradox\" OR \"khazzoom-brookes postulate\" 12029\n",
      "\"smart home*\" AND \"energy\" AND \"efficien*\" 19380\n",
      "\"smart home*\" AND (\"rebound effect\" OR \"jevons paradox\" OR \"khazzoom-brookes postulate\") 199\n",
      "\"energy\" AND \"efficien*\" AND (\"rebound effect\" OR \"jevons paradox\" OR \"khazzoom-brookes postulate\") 7407\n",
      "\"energy\" AND \"efficien*\" AND \"smart home*\" AND (\"rebound effect\" OR \"jevons paradox\" OR \"khazzoom-brookes postulate\") 188\n"
     ]
    }
   ],
   "source": [
    "scopus_search_queries_2 = [\n",
    "        'smart home*',\n",
    "        '\"energy\" AND \"efficien*\"',\n",
    "        '\"rebound effect\" OR \"jevons paradox\" OR \"khazzoom-brookes postulate\"', \n",
    "        '\"smart home*\" AND \"energy\" AND \"efficien*\"',\n",
    "        '\"smart home*\" AND (\"rebound effect\" OR \"jevons paradox\" OR \"khazzoom-brookes postulate\")',\n",
    "        '\"energy\" AND \"efficien*\" AND (\"rebound effect\" OR \"jevons paradox\" OR \"khazzoom-brookes postulate\")',\n",
    "        '\"energy\" AND \"efficien*\" AND \"smart home*\" AND (\"rebound effect\" OR \"jevons paradox\" OR \"khazzoom-brookes postulate\")',    \n",
    "    ]\n",
    "\n",
    "for search_term in scopus_search_queries_2:    \n",
    "    obj = GetTotal(database, search_term, \"temp.csv\", 0)\n",
    "    print(search_term, obj.search())"
   ]
  },
  {
   "cell_type": "code",
   "execution_count": null,
   "metadata": {},
   "outputs": [],
   "source": []
  }
 ],
 "metadata": {
  "kernelspec": {
   "display_name": "Python 3",
   "language": "python",
   "name": "python3"
  },
  "language_info": {
   "codemirror_mode": {
    "name": "ipython",
    "version": 3
   },
   "file_extension": ".py",
   "mimetype": "text/x-python",
   "name": "python",
   "nbconvert_exporter": "python",
   "pygments_lexer": "ipython3",
   "version": "3.7.9"
  }
 },
 "nbformat": 4,
 "nbformat_minor": 4
}
