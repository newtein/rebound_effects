{
 "cells": [
  {
   "cell_type": "code",
   "execution_count": 1,
   "metadata": {},
   "outputs": [],
   "source": [
    "from article_search_get_totals import GetTotal"
   ]
  },
  {
   "cell_type": "code",
   "execution_count": 2,
   "metadata": {},
   "outputs": [],
   "source": [
    "database = 'science_direct'\n",
    "search_term =  'smart home*'\n",
    "\n",
    "# (\"smart home\" OR \"smart homes\") AND (\"energy efficiency\" OR \"energy efficient\")"
   ]
  },
  {
   "cell_type": "code",
   "execution_count": null,
   "metadata": {},
   "outputs": [],
   "source": [
    "science_direct_search_queries = [\n",
    "        \"\\\"smart home\\\" OR \\\"smart home\\\"\",\n",
    "        \"\\\"energy efficiency\\\" OR \\\"energy efficient\\\"\",\n",
    "        \"\\\"rebound effect\\\" OR \\\"rebound effects\\\" OR \\\"jevons paradox\\\" OR \\\"khazzoom-brookes postulate\\\"\", \n",
    "        \"(\\\"smart home\\\" OR \\\"smart home\\\") AND (\\\"energy efficiency\\\" OR \\\"energy efficient\\\")\",\n",
    "        \"(\\\"smart home\\\" OR \\\"smart home\\\") AND (\\\"rebound effect\\\" OR \\\"rebound effects\\\" OR \\\"jevons paradox\\\" OR \\\"khazzoom-brookes postulate\\\")\"\n",
    "        \"(\\\"energy efficiency\\\" OR \\\"energy efficient\\\") AND (\\\"rebound effect\\\" OR \\\"rebound effects\\\" OR \\\"jevons paradox\\\" OR \\\"khazzoom-brookes postulate\\\")\"\n",
    "        \"(\\\"smart home\\\" OR \\\"smart home\\\") AND (\\\"energy efficiency\\\" OR \\\"energy efficient\\\") AND (\\\"rebound effect\\\" OR \\\"rebound effects\\\" OR \\\"jevons paradox\\\" OR \\\"khazzoom-brookes postulate\\\")\"\n",
    "\n",
    "\n",
    "    ]"
   ]
  },
  {
   "cell_type": "code",
   "execution_count": null,
   "metadata": {},
   "outputs": [],
   "source": [
    "        '\"smart home\" OR \"smart homes\"'\n",
    "        '\"energy efficiency\" OR \"energy efficient\"'\n",
    "        '\"rebound effect\" OR \"rebound effects\" OR \"jevons paradox\" OR \"khazzoom-brookes postulate\"'\n",
    "        \"(\\\"smart home\\\" OR \\\"smart home\\\") AND (\\\"energy efficiency\\\" OR \\\"energy efficient\\\")\",\n",
    "        \"(\\\"smart home\\\" OR \\\"smart home\\\") AND (\\\"rebound effect\\\" OR \\\"rebound effects\\\" OR \\\"jevons paradox\\\" OR \\\"khazzoom-brookes postulate\\\")\"\n",
    "        \"(\\\"energy efficiency\\\" OR \\\"energy efficient\\\") AND (\\\"rebound effect\\\" OR \\\"rebound effects\\\" OR \\\"jevons paradox\\\" OR \\\"khazzoom-brookes postulate\\\")\"\n",
    "        \"(\\\"smart home\\\" OR \\\"smart home\\\") AND (\\\"energy efficiency\\\" OR \\\"energy efficient\\\") AND (\\\"rebound effect\\\" OR \\\"rebound effects\\\" OR \\\"jevons paradox\\\" OR \\\"khazzoom-brookes postulate\\\")\"\n"
   ]
  },
  {
   "cell_type": "code",
   "execution_count": 3,
   "metadata": {},
   "outputs": [],
   "source": [
    "science_direct_search_queries = [\n",
    "       \"\\\"\\\\\\\"smart home\\\\\\\" OR \\\\\\\"smart home\\\\\\\"\\\"\",\n",
    "        \"\\\"\\\\\\\"energy efficiency\\\\\\\" OR \\\\\\\"energy efficient\\\\\\\"\\\"\",\n",
    "        \"\\\"\\\\\\\"rebound effect\\\\\\\" OR \\\\\\\"rebound effects\\\\\\\" OR \\\\\\\"jevons paradox\\\\\\\" OR \\\\\\\"khazzoom-brookes postulate\\\\\\\"\\\"\",        \"(\\\"smart home\\\" OR \\\"smart home\\\") AND (\\\"energy efficiency\\\" OR \\\"energy efficient\\\")\",\n",
    "        \"\\\"(\\\\\\\"smart home\\\\\\\" OR \\\\\\\"smart home\\\\\\\") AND (\\\\\\\"rebound effect\\\\\\\" OR \\\\\\\"rebound effects\\\\\\\" OR \\\\\\\"jevons paradox\\\\\\\" OR \\\\\\\"khazzoom-brookes postulate\\\\\\\")\\\"\",\n",
    "        \"\\\"(\\\\\\\"energy efficiency\\\\\\\" OR \\\\\\\"energy efficient\\\\\\\") AND (\\\\\\\"rebound effect\\\\\\\" OR \\\\\\\"rebound effects\\\\\\\" OR \\\\\\\"jevons paradox\\\\\\\" OR \\\\\\\"khazzoom-brookes postulate\\\\\\\")\\\"\",\n",
    "       \"\\\"(\\\\\\\"smart home\\\\\\\" OR \\\\\\\"smart home\\\\\\\") AND (\\\\\\\"energy efficiency\\\\\\\" OR \\\\\\\"energy efficient\\\\\\\") AND (\\\\\\\"rebound effect\\\\\\\" OR \\\\\\\"rebound effects\\\\\\\" OR \\\\\\\"jevons paradox\\\\\\\" OR \\\\\\\"khazzoom-brookes postulate\\\\\\\")\\\"\"  \n",
    "    ]"
   ]
  },
  {
   "cell_type": "code",
   "execution_count": 4,
   "metadata": {},
   "outputs": [
    {
     "name": "stdout",
     "output_type": "stream",
     "text": [
      "https://api.elsevier.com/content/search/sciencedirect?start=0&cursor=*&count=25&query=\"\\\"smart home\\\" OR \\\"smart home\\\"\"&apiKey=7204ce63f69204c4c56fe50fffbfc172&httpAccept=application%2Fjson&insttoken=2fe87d6f56fc41a3a6ba27bca6bfbeca\n",
      "\"\\\"smart home\\\" OR \\\"smart home\\\"\" 8119\n",
      "https://api.elsevier.com/content/search/sciencedirect?start=0&cursor=*&count=25&query=\"\\\"energy efficiency\\\" OR \\\"energy efficient\\\"\"&apiKey=7204ce63f69204c4c56fe50fffbfc172&httpAccept=application%2Fjson&insttoken=2fe87d6f56fc41a3a6ba27bca6bfbeca\n",
      "\"\\\"energy efficiency\\\" OR \\\"energy efficient\\\"\" 219348\n",
      "https://api.elsevier.com/content/search/sciencedirect?start=0&cursor=*&count=25&query=\"\\\"rebound effect\\\" OR \\\"rebound effects\\\" OR \\\"jevons paradox\\\" OR \\\"khazzoom-brookes postulate\\\"\"&apiKey=7204ce63f69204c4c56fe50fffbfc172&httpAccept=application%2Fjson&insttoken=2fe87d6f56fc41a3a6ba27bca6bfbeca\n",
      "\"\\\"rebound effect\\\" OR \\\"rebound effects\\\" OR \\\"jevons paradox\\\" OR \\\"khazzoom-brookes postulate\\\"\" 12073\n",
      "https://api.elsevier.com/content/search/sciencedirect?start=0&cursor=*&count=25&query=(\"smart home\" OR \"smart home\") AND (\"energy efficiency\" OR \"energy efficient\")&apiKey=7204ce63f69204c4c56fe50fffbfc172&httpAccept=application%2Fjson&insttoken=2fe87d6f56fc41a3a6ba27bca6bfbeca\n",
      "(\"smart home\" OR \"smart home\") AND (\"energy efficiency\" OR \"energy efficient\") 999996\n",
      "https://api.elsevier.com/content/search/sciencedirect?start=0&cursor=*&count=25&query=\"(\\\"smart home\\\" OR \\\"smart home\\\") AND (\\\"rebound effect\\\" OR \\\"rebound effects\\\" OR \\\"jevons paradox\\\" OR \\\"khazzoom-brookes postulate\\\")\"&apiKey=7204ce63f69204c4c56fe50fffbfc172&httpAccept=application%2Fjson&insttoken=2fe87d6f56fc41a3a6ba27bca6bfbeca\n",
      "\"(\\\"smart home\\\" OR \\\"smart home\\\") AND (\\\"rebound effect\\\" OR \\\"rebound effects\\\" OR \\\"jevons paradox\\\" OR \\\"khazzoom-brookes postulate\\\")\" 125\n",
      "https://api.elsevier.com/content/search/sciencedirect?start=0&cursor=*&count=25&query=\"(\\\"energy efficiency\\\" OR \\\"energy efficient\\\") AND (\\\"rebound effect\\\" OR \\\"rebound effects\\\" OR \\\"jevons paradox\\\" OR \\\"khazzoom-brookes postulate\\\")\"&apiKey=7204ce63f69204c4c56fe50fffbfc172&httpAccept=application%2Fjson&insttoken=2fe87d6f56fc41a3a6ba27bca6bfbeca\n",
      "\"(\\\"energy efficiency\\\" OR \\\"energy efficient\\\") AND (\\\"rebound effect\\\" OR \\\"rebound effects\\\" OR \\\"jevons paradox\\\" OR \\\"khazzoom-brookes postulate\\\")\" 3743\n",
      "https://api.elsevier.com/content/search/sciencedirect?start=0&cursor=*&count=25&query=\"(\\\"smart home\\\" OR \\\"smart home\\\") AND (\\\"energy efficiency\\\" OR \\\"energy efficient\\\") AND (\\\"rebound effect\\\" OR \\\"rebound effects\\\" OR \\\"jevons paradox\\\" OR \\\"khazzoom-brookes postulate\\\")\"&apiKey=7204ce63f69204c4c56fe50fffbfc172&httpAccept=application%2Fjson&insttoken=2fe87d6f56fc41a3a6ba27bca6bfbeca\n",
      "\"(\\\"smart home\\\" OR \\\"smart home\\\") AND (\\\"energy efficiency\\\" OR \\\"energy efficient\\\") AND (\\\"rebound effect\\\" OR \\\"rebound effects\\\" OR \\\"jevons paradox\\\" OR \\\"khazzoom-brookes postulate\\\")\" 103\n"
     ]
    }
   ],
   "source": [
    "for search_term in science_direct_search_queries:    \n",
    "    obj = GetTotal(database, search_term, \"science_direct_all.csv\", 0)\n",
    "    print(search_term, obj.search())"
   ]
  },
  {
   "cell_type": "code",
   "execution_count": null,
   "metadata": {},
   "outputs": [],
   "source": []
  },
  {
   "cell_type": "code",
   "execution_count": null,
   "metadata": {},
   "outputs": [],
   "source": []
  },
  {
   "cell_type": "code",
   "execution_count": null,
   "metadata": {},
   "outputs": [],
   "source": [
    "scopus_search_queries_2 = [\n",
    "        'smart home*',\n",
    "        '\"energy\" AND \"efficien*\"',\n",
    "        '\"rebound effect\" OR \"jevons paradox\" OR \"khazzoom-brookes postulate\"', \n",
    "        '\"smart home*\" AND \"energy\" AND \"efficien*\"',\n",
    "        '\"smart home*\" AND (\"rebound effect\" OR \"jevons paradox\" OR \"khazzoom-brookes postulate\")',\n",
    "        '\"energy\" AND \"efficien*\" AND (\"rebound effect\" OR \"jevons paradox\" OR \"khazzoom-brookes postulate\")',\n",
    "        '\"energy\" AND \"efficien*\" AND \"smart home*\" AND (\"rebound effect\" OR \"jevons paradox\" OR \"khazzoom-brookes postulate\")',    \n",
    "    ]\n",
    "\n",
    "for search_term in scopus_search_queries_2:    \n",
    "    obj = GetTotal(database, search_term, \"temp.csv\", 0)\n",
    "    print(search_term, obj.search())"
   ]
  },
  {
   "cell_type": "code",
   "execution_count": null,
   "metadata": {},
   "outputs": [],
   "source": []
  }
 ],
 "metadata": {
  "kernelspec": {
   "display_name": "Python 3 (ipykernel)",
   "language": "python",
   "name": "python3"
  },
  "language_info": {
   "codemirror_mode": {
    "name": "ipython",
    "version": 3
   },
   "file_extension": ".py",
   "mimetype": "text/x-python",
   "name": "python",
   "nbconvert_exporter": "python",
   "pygments_lexer": "ipython3",
   "version": "3.8.10"
  }
 },
 "nbformat": 4,
 "nbformat_minor": 4
}
