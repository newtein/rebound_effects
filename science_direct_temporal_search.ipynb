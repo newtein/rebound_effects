{
 "cells": [
  {
   "cell_type": "code",
   "execution_count": 8,
   "metadata": {},
   "outputs": [],
   "source": [
    "from temporal_article_search import GetTotal\n",
    "import time"
   ]
  },
  {
   "cell_type": "code",
   "execution_count": 2,
   "metadata": {},
   "outputs": [],
   "source": [
    "database = 'science_direct'\n",
    "search_term =  'smart home*'\n",
    "\n",
    "# (\"smart home\" OR \"smart homes\") AND (\"energy efficiency\" OR \"energy efficient\")"
   ]
  },
  {
   "cell_type": "code",
   "execution_count": 4,
   "metadata": {},
   "outputs": [],
   "source": [
    "science_direct_search_queries = [\n",
    "        \"\\\"smart home\\\" OR \\\"smart home\\\"\",\n",
    "        \"\\\"energy efficiency\\\" OR \\\"energy efficient\\\"\",\n",
    "        \"\\\"rebound effect\\\" OR \\\"rebound effects\\\" OR \\\"jevons paradox\\\" OR \\\"khazzoom-brookes postulate\\\"\", \n",
    "        \"(\\\"smart home\\\" OR \\\"smart home\\\") AND (\\\"energy efficiency\\\" OR \\\"energy efficient\\\")\",\n",
    "        \"(\\\"smart home\\\" OR \\\"smart home\\\") AND (\\\"rebound effect\\\" OR \\\"rebound effects\\\" OR \\\"jevons paradox\\\" OR \\\"khazzoom-brookes postulate\\\")\"\n",
    "        \"(\\\"energy efficiency\\\" OR \\\"energy efficient\\\") AND (\\\"rebound effect\\\" OR \\\"rebound effects\\\" OR \\\"jevons paradox\\\" OR \\\"khazzoom-brookes postulate\\\")\"\n",
    "        \"(\\\"smart home\\\" OR \\\"smart home\\\") AND (\\\"energy efficiency\\\" OR \\\"energy efficient\\\") AND (\\\"rebound effect\\\" OR \\\"rebound effects\\\" OR \\\"jevons paradox\\\" OR \\\"khazzoom-brookes postulate\\\")\"\n",
    "\n",
    "\n",
    "    ]"
   ]
  },
  {
   "cell_type": "code",
   "execution_count": null,
   "metadata": {},
   "outputs": [],
   "source": [
    "        '\"smart home\" OR \"smart homes\"'\n",
    "        '\"energy efficiency\" OR \"energy efficient\"'\n",
    "        '\"rebound effect\" OR \"rebound effects\" OR \"jevons paradox\" OR \"khazzoom-brookes postulate\"'\n",
    "        \"(\\\"smart home\\\" OR \\\"smart home\\\") AND (\\\"energy efficiency\\\" OR \\\"energy efficient\\\")\",\n",
    "        \"(\\\"smart home\\\" OR \\\"smart home\\\") AND (\\\"rebound effect\\\" OR \\\"rebound effects\\\" OR \\\"jevons paradox\\\" OR \\\"khazzoom-brookes postulate\\\")\"\n",
    "        \"(\\\"energy efficiency\\\" OR \\\"energy efficient\\\") AND (\\\"rebound effect\\\" OR \\\"rebound effects\\\" OR \\\"jevons paradox\\\" OR \\\"khazzoom-brookes postulate\\\")\"\n",
    "        \"(\\\"smart home\\\" OR \\\"smart home\\\") AND (\\\"energy efficiency\\\" OR \\\"energy efficient\\\") AND (\\\"rebound effect\\\" OR \\\"rebound effects\\\" OR \\\"jevons paradox\\\" OR \\\"khazzoom-brookes postulate\\\")\"\n"
   ]
  },
  {
   "cell_type": "code",
   "execution_count": 10,
   "metadata": {},
   "outputs": [],
   "source": [
    "science_direct_search_queries = [\n",
    "       \"\\\"\\\\\\\"smart home\\\\\\\" OR \\\\\\\"smart home\\\\\\\"\\\"\",\n",
    "        \"\\\"\\\\\\\"energy efficiency\\\\\\\" OR \\\\\\\"energy efficient\\\\\\\"\\\"\",\n",
    "        \"\\\"\\\\\\\"rebound effect\\\\\\\" OR \\\\\\\"rebound effects\\\\\\\" OR \\\\\\\"jevons paradox\\\\\\\" OR \\\\\\\"khazzoom-brookes postulate\\\\\\\"\\\"\",        \"(\\\"smart home\\\" OR \\\"smart home\\\") AND (\\\"energy efficiency\\\" OR \\\"energy efficient\\\")\",\n",
    "        \"\\\"(\\\\\\\"smart home\\\\\\\" OR \\\\\\\"smart home\\\\\\\") AND (\\\\\\\"rebound effect\\\\\\\" OR \\\\\\\"rebound effects\\\\\\\" OR \\\\\\\"jevons paradox\\\\\\\" OR \\\\\\\"khazzoom-brookes postulate\\\\\\\")\\\"\",\n",
    "        \"\\\"(\\\\\\\"energy efficiency\\\\\\\" OR \\\\\\\"energy efficient\\\\\\\") AND (\\\\\\\"rebound effect\\\\\\\" OR \\\\\\\"rebound effects\\\\\\\" OR \\\\\\\"jevons paradox\\\\\\\" OR \\\\\\\"khazzoom-brookes postulate\\\\\\\")\\\"\",\n",
    "       \"\\\"(\\\\\\\"smart home\\\\\\\" OR \\\\\\\"smart home\\\\\\\") AND (\\\\\\\"energy efficiency\\\\\\\" OR \\\\\\\"energy efficient\\\\\\\") AND (\\\\\\\"rebound effect\\\\\\\" OR \\\\\\\"rebound effects\\\\\\\" OR \\\\\\\"jevons paradox\\\\\\\" OR \\\\\\\"khazzoom-brookes postulate\\\\\\\")\\\"\"  \n",
    "    ]"
   ]
  },
  {
   "cell_type": "code",
   "execution_count": 11,
   "metadata": {
    "scrolled": false
   },
   "outputs": [
    {
     "name": "stdout",
     "output_type": "stream",
     "text": [
      "2015-2016\n",
      "https://api.elsevier.com/content/search/sciencedirect?date=2015-2016&start=0&cursor=*&count=25&query=\"\\\"smart home\\\" OR \\\"smart home\\\"\"&apiKey=7204ce63f69204c4c56fe50fffbfc172&httpAccept=application%2Fjson&insttoken=2fe87d6f56fc41a3a6ba27bca6bfbeca\n",
      "\"\\\"smart home\\\" OR \\\"smart home\\\"\" 868\n",
      "2016-2017\n",
      "https://api.elsevier.com/content/search/sciencedirect?date=2016-2017&start=0&cursor=*&count=25&query=\"\\\"smart home\\\" OR \\\"smart home\\\"\"&apiKey=7204ce63f69204c4c56fe50fffbfc172&httpAccept=application%2Fjson&insttoken=2fe87d6f56fc41a3a6ba27bca6bfbeca\n",
      "\"\\\"smart home\\\" OR \\\"smart home\\\"\" 1061\n",
      "2017-2018\n",
      "https://api.elsevier.com/content/search/sciencedirect?date=2017-2018&start=0&cursor=*&count=25&query=\"\\\"smart home\\\" OR \\\"smart home\\\"\"&apiKey=7204ce63f69204c4c56fe50fffbfc172&httpAccept=application%2Fjson&insttoken=2fe87d6f56fc41a3a6ba27bca6bfbeca\n",
      "\"\\\"smart home\\\" OR \\\"smart home\\\"\" 1363\n",
      "2018-2019\n",
      "https://api.elsevier.com/content/search/sciencedirect?date=2018-2019&start=0&cursor=*&count=25&query=\"\\\"smart home\\\" OR \\\"smart home\\\"\"&apiKey=7204ce63f69204c4c56fe50fffbfc172&httpAccept=application%2Fjson&insttoken=2fe87d6f56fc41a3a6ba27bca6bfbeca\n",
      "\"\\\"smart home\\\" OR \\\"smart home\\\"\" 1768\n",
      "2019-2020\n",
      "https://api.elsevier.com/content/search/sciencedirect?date=2019-2020&start=0&cursor=*&count=25&query=\"\\\"smart home\\\" OR \\\"smart home\\\"\"&apiKey=7204ce63f69204c4c56fe50fffbfc172&httpAccept=application%2Fjson&insttoken=2fe87d6f56fc41a3a6ba27bca6bfbeca\n",
      "\"\\\"smart home\\\" OR \\\"smart home\\\"\" 2342\n",
      "2020-2021\n",
      "https://api.elsevier.com/content/search/sciencedirect?date=2020-2021&start=0&cursor=*&count=25&query=\"\\\"smart home\\\" OR \\\"smart home\\\"\"&apiKey=7204ce63f69204c4c56fe50fffbfc172&httpAccept=application%2Fjson&insttoken=2fe87d6f56fc41a3a6ba27bca6bfbeca\n",
      "\"\\\"smart home\\\" OR \\\"smart home\\\"\" 2956\n",
      "2021-2022\n",
      "https://api.elsevier.com/content/search/sciencedirect?date=2021-2022&start=0&cursor=*&count=25&query=\"\\\"smart home\\\" OR \\\"smart home\\\"\"&apiKey=7204ce63f69204c4c56fe50fffbfc172&httpAccept=application%2Fjson&insttoken=2fe87d6f56fc41a3a6ba27bca6bfbeca\n",
      "\"\\\"smart home\\\" OR \\\"smart home\\\"\" 2382\n",
      "2015-2016\n",
      "https://api.elsevier.com/content/search/sciencedirect?date=2015-2016&start=0&cursor=*&count=25&query=\"\\\"energy efficiency\\\" OR \\\"energy efficient\\\"\"&apiKey=7204ce63f69204c4c56fe50fffbfc172&httpAccept=application%2Fjson&insttoken=2fe87d6f56fc41a3a6ba27bca6bfbeca\n",
      "\"\\\"energy efficiency\\\" OR \\\"energy efficient\\\"\" 26097\n",
      "2016-2017\n",
      "https://api.elsevier.com/content/search/sciencedirect?date=2016-2017&start=0&cursor=*&count=25&query=\"\\\"energy efficiency\\\" OR \\\"energy efficient\\\"\"&apiKey=7204ce63f69204c4c56fe50fffbfc172&httpAccept=application%2Fjson&insttoken=2fe87d6f56fc41a3a6ba27bca6bfbeca\n",
      "\"\\\"energy efficiency\\\" OR \\\"energy efficient\\\"\" 30418\n",
      "2017-2018\n",
      "https://api.elsevier.com/content/search/sciencedirect?date=2017-2018&start=0&cursor=*&count=25&query=\"\\\"energy efficiency\\\" OR \\\"energy efficient\\\"\"&apiKey=7204ce63f69204c4c56fe50fffbfc172&httpAccept=application%2Fjson&insttoken=2fe87d6f56fc41a3a6ba27bca6bfbeca\n",
      "\"\\\"energy efficiency\\\" OR \\\"energy efficient\\\"\" 33463\n",
      "2018-2019\n",
      "https://api.elsevier.com/content/search/sciencedirect?date=2018-2019&start=0&cursor=*&count=25&query=\"\\\"energy efficiency\\\" OR \\\"energy efficient\\\"\"&apiKey=7204ce63f69204c4c56fe50fffbfc172&httpAccept=application%2Fjson&insttoken=2fe87d6f56fc41a3a6ba27bca6bfbeca\n",
      "\"\\\"energy efficiency\\\" OR \\\"energy efficient\\\"\" 35210\n",
      "2019-2020\n",
      "https://api.elsevier.com/content/search/sciencedirect?date=2019-2020&start=0&cursor=*&count=25&query=\"\\\"energy efficiency\\\" OR \\\"energy efficient\\\"\"&apiKey=7204ce63f69204c4c56fe50fffbfc172&httpAccept=application%2Fjson&insttoken=2fe87d6f56fc41a3a6ba27bca6bfbeca\n",
      "\"\\\"energy efficiency\\\" OR \\\"energy efficient\\\"\" 39354\n",
      "2020-2021\n",
      "https://api.elsevier.com/content/search/sciencedirect?date=2020-2021&start=0&cursor=*&count=25&query=\"\\\"energy efficiency\\\" OR \\\"energy efficient\\\"\"&apiKey=7204ce63f69204c4c56fe50fffbfc172&httpAccept=application%2Fjson&insttoken=2fe87d6f56fc41a3a6ba27bca6bfbeca\n",
      "\"\\\"energy efficiency\\\" OR \\\"energy efficient\\\"\" 46090\n",
      "2021-2022\n",
      "https://api.elsevier.com/content/search/sciencedirect?date=2021-2022&start=0&cursor=*&count=25&query=\"\\\"energy efficiency\\\" OR \\\"energy efficient\\\"\"&apiKey=7204ce63f69204c4c56fe50fffbfc172&httpAccept=application%2Fjson&insttoken=2fe87d6f56fc41a3a6ba27bca6bfbeca\n",
      "\"\\\"energy efficiency\\\" OR \\\"energy efficient\\\"\" 38356\n",
      "2015-2016\n",
      "https://api.elsevier.com/content/search/sciencedirect?date=2015-2016&start=0&cursor=*&count=25&query=\"\\\"rebound effect\\\" OR \\\"rebound effects\\\" OR \\\"jevons paradox\\\" OR \\\"khazzoom-brookes postulate\\\"\"&apiKey=7204ce63f69204c4c56fe50fffbfc172&httpAccept=application%2Fjson&insttoken=2fe87d6f56fc41a3a6ba27bca6bfbeca\n",
      "\"\\\"rebound effect\\\" OR \\\"rebound effects\\\" OR \\\"jevons paradox\\\" OR \\\"khazzoom-brookes postulate\\\"\" 1182\n",
      "2016-2017\n",
      "https://api.elsevier.com/content/search/sciencedirect?date=2016-2017&start=0&cursor=*&count=25&query=\"\\\"rebound effect\\\" OR \\\"rebound effects\\\" OR \\\"jevons paradox\\\" OR \\\"khazzoom-brookes postulate\\\"\"&apiKey=7204ce63f69204c4c56fe50fffbfc172&httpAccept=application%2Fjson&insttoken=2fe87d6f56fc41a3a6ba27bca6bfbeca\n",
      "\"\\\"rebound effect\\\" OR \\\"rebound effects\\\" OR \\\"jevons paradox\\\" OR \\\"khazzoom-brookes postulate\\\"\" 1328\n",
      "2017-2018\n",
      "https://api.elsevier.com/content/search/sciencedirect?date=2017-2018&start=0&cursor=*&count=25&query=\"\\\"rebound effect\\\" OR \\\"rebound effects\\\" OR \\\"jevons paradox\\\" OR \\\"khazzoom-brookes postulate\\\"\"&apiKey=7204ce63f69204c4c56fe50fffbfc172&httpAccept=application%2Fjson&insttoken=2fe87d6f56fc41a3a6ba27bca6bfbeca\n",
      "\"\\\"rebound effect\\\" OR \\\"rebound effects\\\" OR \\\"jevons paradox\\\" OR \\\"khazzoom-brookes postulate\\\"\" 1470\n",
      "2018-2019\n",
      "https://api.elsevier.com/content/search/sciencedirect?date=2018-2019&start=0&cursor=*&count=25&query=\"\\\"rebound effect\\\" OR \\\"rebound effects\\\" OR \\\"jevons paradox\\\" OR \\\"khazzoom-brookes postulate\\\"\"&apiKey=7204ce63f69204c4c56fe50fffbfc172&httpAccept=application%2Fjson&insttoken=2fe87d6f56fc41a3a6ba27bca6bfbeca\n",
      "\"\\\"rebound effect\\\" OR \\\"rebound effects\\\" OR \\\"jevons paradox\\\" OR \\\"khazzoom-brookes postulate\\\"\" 1633\n",
      "2019-2020\n",
      "https://api.elsevier.com/content/search/sciencedirect?date=2019-2020&start=0&cursor=*&count=25&query=\"\\\"rebound effect\\\" OR \\\"rebound effects\\\" OR \\\"jevons paradox\\\" OR \\\"khazzoom-brookes postulate\\\"\"&apiKey=7204ce63f69204c4c56fe50fffbfc172&httpAccept=application%2Fjson&insttoken=2fe87d6f56fc41a3a6ba27bca6bfbeca\n",
      "\"\\\"rebound effect\\\" OR \\\"rebound effects\\\" OR \\\"jevons paradox\\\" OR \\\"khazzoom-brookes postulate\\\"\" 1787\n",
      "2020-2021\n",
      "https://api.elsevier.com/content/search/sciencedirect?date=2020-2021&start=0&cursor=*&count=25&query=\"\\\"rebound effect\\\" OR \\\"rebound effects\\\" OR \\\"jevons paradox\\\" OR \\\"khazzoom-brookes postulate\\\"\"&apiKey=7204ce63f69204c4c56fe50fffbfc172&httpAccept=application%2Fjson&insttoken=2fe87d6f56fc41a3a6ba27bca6bfbeca\n",
      "\"\\\"rebound effect\\\" OR \\\"rebound effects\\\" OR \\\"jevons paradox\\\" OR \\\"khazzoom-brookes postulate\\\"\" 2028\n",
      "2021-2022\n",
      "https://api.elsevier.com/content/search/sciencedirect?date=2021-2022&start=0&cursor=*&count=25&query=\"\\\"rebound effect\\\" OR \\\"rebound effects\\\" OR \\\"jevons paradox\\\" OR \\\"khazzoom-brookes postulate\\\"\"&apiKey=7204ce63f69204c4c56fe50fffbfc172&httpAccept=application%2Fjson&insttoken=2fe87d6f56fc41a3a6ba27bca6bfbeca\n",
      "\"\\\"rebound effect\\\" OR \\\"rebound effects\\\" OR \\\"jevons paradox\\\" OR \\\"khazzoom-brookes postulate\\\"\" 1602\n",
      "2015-2016\n",
      "https://api.elsevier.com/content/search/sciencedirect?date=2015-2016&start=0&cursor=*&count=25&query=(\"smart home\" OR \"smart home\") AND (\"energy efficiency\" OR \"energy efficient\")&apiKey=7204ce63f69204c4c56fe50fffbfc172&httpAccept=application%2Fjson&insttoken=2fe87d6f56fc41a3a6ba27bca6bfbeca\n",
      "(\"smart home\" OR \"smart home\") AND (\"energy efficiency\" OR \"energy efficient\") 219850\n",
      "2016-2017\n",
      "https://api.elsevier.com/content/search/sciencedirect?date=2016-2017&start=0&cursor=*&count=25&query=(\"smart home\" OR \"smart home\") AND (\"energy efficiency\" OR \"energy efficient\")&apiKey=7204ce63f69204c4c56fe50fffbfc172&httpAccept=application%2Fjson&insttoken=2fe87d6f56fc41a3a6ba27bca6bfbeca\n",
      "(\"smart home\" OR \"smart home\") AND (\"energy efficiency\" OR \"energy efficient\") 245114\n",
      "2017-2018\n",
      "https://api.elsevier.com/content/search/sciencedirect?date=2017-2018&start=0&cursor=*&count=25&query=(\"smart home\" OR \"smart home\") AND (\"energy efficiency\" OR \"energy efficient\")&apiKey=7204ce63f69204c4c56fe50fffbfc172&httpAccept=application%2Fjson&insttoken=2fe87d6f56fc41a3a6ba27bca6bfbeca\n"
     ]
    },
    {
     "name": "stdout",
     "output_type": "stream",
     "text": [
      "(\"smart home\" OR \"smart home\") AND (\"energy efficiency\" OR \"energy efficient\") 270333\n",
      "2018-2019\n",
      "https://api.elsevier.com/content/search/sciencedirect?date=2018-2019&start=0&cursor=*&count=25&query=(\"smart home\" OR \"smart home\") AND (\"energy efficiency\" OR \"energy efficient\")&apiKey=7204ce63f69204c4c56fe50fffbfc172&httpAccept=application%2Fjson&insttoken=2fe87d6f56fc41a3a6ba27bca6bfbeca\n",
      "(\"smart home\" OR \"smart home\") AND (\"energy efficiency\" OR \"energy efficient\") 295177\n",
      "2019-2020\n",
      "https://api.elsevier.com/content/search/sciencedirect?date=2019-2020&start=0&cursor=*&count=25&query=(\"smart home\" OR \"smart home\") AND (\"energy efficiency\" OR \"energy efficient\")&apiKey=7204ce63f69204c4c56fe50fffbfc172&httpAccept=application%2Fjson&insttoken=2fe87d6f56fc41a3a6ba27bca6bfbeca\n",
      "(\"smart home\" OR \"smart home\") AND (\"energy efficiency\" OR \"energy efficient\") 331147\n",
      "2020-2021\n",
      "https://api.elsevier.com/content/search/sciencedirect?date=2020-2021&start=0&cursor=*&count=25&query=(\"smart home\" OR \"smart home\") AND (\"energy efficiency\" OR \"energy efficient\")&apiKey=7204ce63f69204c4c56fe50fffbfc172&httpAccept=application%2Fjson&insttoken=2fe87d6f56fc41a3a6ba27bca6bfbeca\n",
      "(\"smart home\" OR \"smart home\") AND (\"energy efficiency\" OR \"energy efficient\") 383424\n",
      "2021-2022\n",
      "https://api.elsevier.com/content/search/sciencedirect?date=2021-2022&start=0&cursor=*&count=25&query=(\"smart home\" OR \"smart home\") AND (\"energy efficiency\" OR \"energy efficient\")&apiKey=7204ce63f69204c4c56fe50fffbfc172&httpAccept=application%2Fjson&insttoken=2fe87d6f56fc41a3a6ba27bca6bfbeca\n",
      "(\"smart home\" OR \"smart home\") AND (\"energy efficiency\" OR \"energy efficient\") 314425\n",
      "2015-2016\n",
      "https://api.elsevier.com/content/search/sciencedirect?date=2015-2016&start=0&cursor=*&count=25&query=\"(\\\"smart home\\\" OR \\\"smart home\\\") AND (\\\"rebound effect\\\" OR \\\"rebound effects\\\" OR \\\"jevons paradox\\\" OR \\\"khazzoom-brookes postulate\\\")\"&apiKey=7204ce63f69204c4c56fe50fffbfc172&httpAccept=application%2Fjson&insttoken=2fe87d6f56fc41a3a6ba27bca6bfbeca\n",
      "\"(\\\"smart home\\\" OR \\\"smart home\\\") AND (\\\"rebound effect\\\" OR \\\"rebound effects\\\" OR \\\"jevons paradox\\\" OR \\\"khazzoom-brookes postulate\\\")\" 6\n",
      "2016-2017\n",
      "https://api.elsevier.com/content/search/sciencedirect?date=2016-2017&start=0&cursor=*&count=25&query=\"(\\\"smart home\\\" OR \\\"smart home\\\") AND (\\\"rebound effect\\\" OR \\\"rebound effects\\\" OR \\\"jevons paradox\\\" OR \\\"khazzoom-brookes postulate\\\")\"&apiKey=7204ce63f69204c4c56fe50fffbfc172&httpAccept=application%2Fjson&insttoken=2fe87d6f56fc41a3a6ba27bca6bfbeca\n",
      "\"(\\\"smart home\\\" OR \\\"smart home\\\") AND (\\\"rebound effect\\\" OR \\\"rebound effects\\\" OR \\\"jevons paradox\\\" OR \\\"khazzoom-brookes postulate\\\")\" 10\n",
      "2017-2018\n",
      "https://api.elsevier.com/content/search/sciencedirect?date=2017-2018&start=0&cursor=*&count=25&query=\"(\\\"smart home\\\" OR \\\"smart home\\\") AND (\\\"rebound effect\\\" OR \\\"rebound effects\\\" OR \\\"jevons paradox\\\" OR \\\"khazzoom-brookes postulate\\\")\"&apiKey=7204ce63f69204c4c56fe50fffbfc172&httpAccept=application%2Fjson&insttoken=2fe87d6f56fc41a3a6ba27bca6bfbeca\n",
      "\"(\\\"smart home\\\" OR \\\"smart home\\\") AND (\\\"rebound effect\\\" OR \\\"rebound effects\\\" OR \\\"jevons paradox\\\" OR \\\"khazzoom-brookes postulate\\\")\" 21\n",
      "2018-2019\n",
      "https://api.elsevier.com/content/search/sciencedirect?date=2018-2019&start=0&cursor=*&count=25&query=\"(\\\"smart home\\\" OR \\\"smart home\\\") AND (\\\"rebound effect\\\" OR \\\"rebound effects\\\" OR \\\"jevons paradox\\\" OR \\\"khazzoom-brookes postulate\\\")\"&apiKey=7204ce63f69204c4c56fe50fffbfc172&httpAccept=application%2Fjson&insttoken=2fe87d6f56fc41a3a6ba27bca6bfbeca\n",
      "\"(\\\"smart home\\\" OR \\\"smart home\\\") AND (\\\"rebound effect\\\" OR \\\"rebound effects\\\" OR \\\"jevons paradox\\\" OR \\\"khazzoom-brookes postulate\\\")\" 29\n",
      "2019-2020\n",
      "https://api.elsevier.com/content/search/sciencedirect?date=2019-2020&start=0&cursor=*&count=25&query=\"(\\\"smart home\\\" OR \\\"smart home\\\") AND (\\\"rebound effect\\\" OR \\\"rebound effects\\\" OR \\\"jevons paradox\\\" OR \\\"khazzoom-brookes postulate\\\")\"&apiKey=7204ce63f69204c4c56fe50fffbfc172&httpAccept=application%2Fjson&insttoken=2fe87d6f56fc41a3a6ba27bca6bfbeca\n",
      "\"(\\\"smart home\\\" OR \\\"smart home\\\") AND (\\\"rebound effect\\\" OR \\\"rebound effects\\\" OR \\\"jevons paradox\\\" OR \\\"khazzoom-brookes postulate\\\")\" 37\n",
      "2020-2021\n",
      "https://api.elsevier.com/content/search/sciencedirect?date=2020-2021&start=0&cursor=*&count=25&query=\"(\\\"smart home\\\" OR \\\"smart home\\\") AND (\\\"rebound effect\\\" OR \\\"rebound effects\\\" OR \\\"jevons paradox\\\" OR \\\"khazzoom-brookes postulate\\\")\"&apiKey=7204ce63f69204c4c56fe50fffbfc172&httpAccept=application%2Fjson&insttoken=2fe87d6f56fc41a3a6ba27bca6bfbeca\n",
      "\"(\\\"smart home\\\" OR \\\"smart home\\\") AND (\\\"rebound effect\\\" OR \\\"rebound effects\\\" OR \\\"jevons paradox\\\" OR \\\"khazzoom-brookes postulate\\\")\" 55\n",
      "2021-2022\n",
      "https://api.elsevier.com/content/search/sciencedirect?date=2021-2022&start=0&cursor=*&count=25&query=\"(\\\"smart home\\\" OR \\\"smart home\\\") AND (\\\"rebound effect\\\" OR \\\"rebound effects\\\" OR \\\"jevons paradox\\\" OR \\\"khazzoom-brookes postulate\\\")\"&apiKey=7204ce63f69204c4c56fe50fffbfc172&httpAccept=application%2Fjson&insttoken=2fe87d6f56fc41a3a6ba27bca6bfbeca\n",
      "\"(\\\"smart home\\\" OR \\\"smart home\\\") AND (\\\"rebound effect\\\" OR \\\"rebound effects\\\" OR \\\"jevons paradox\\\" OR \\\"khazzoom-brookes postulate\\\")\" 47\n",
      "2015-2016\n",
      "https://api.elsevier.com/content/search/sciencedirect?date=2015-2016&start=0&cursor=*&count=25&query=\"(\\\"energy efficiency\\\" OR \\\"energy efficient\\\") AND (\\\"rebound effect\\\" OR \\\"rebound effects\\\" OR \\\"jevons paradox\\\" OR \\\"khazzoom-brookes postulate\\\")\"&apiKey=7204ce63f69204c4c56fe50fffbfc172&httpAccept=application%2Fjson&insttoken=2fe87d6f56fc41a3a6ba27bca6bfbeca\n",
      "\"(\\\"energy efficiency\\\" OR \\\"energy efficient\\\") AND (\\\"rebound effect\\\" OR \\\"rebound effects\\\" OR \\\"jevons paradox\\\" OR \\\"khazzoom-brookes postulate\\\")\" 490\n",
      "2016-2017\n",
      "https://api.elsevier.com/content/search/sciencedirect?date=2016-2017&start=0&cursor=*&count=25&query=\"(\\\"energy efficiency\\\" OR \\\"energy efficient\\\") AND (\\\"rebound effect\\\" OR \\\"rebound effects\\\" OR \\\"jevons paradox\\\" OR \\\"khazzoom-brookes postulate\\\")\"&apiKey=7204ce63f69204c4c56fe50fffbfc172&httpAccept=application%2Fjson&insttoken=2fe87d6f56fc41a3a6ba27bca6bfbeca\n",
      "\"(\\\"energy efficiency\\\" OR \\\"energy efficient\\\") AND (\\\"rebound effect\\\" OR \\\"rebound effects\\\" OR \\\"jevons paradox\\\" OR \\\"khazzoom-brookes postulate\\\")\" 548\n",
      "2017-2018\n",
      "https://api.elsevier.com/content/search/sciencedirect?date=2017-2018&start=0&cursor=*&count=25&query=\"(\\\"energy efficiency\\\" OR \\\"energy efficient\\\") AND (\\\"rebound effect\\\" OR \\\"rebound effects\\\" OR \\\"jevons paradox\\\" OR \\\"khazzoom-brookes postulate\\\")\"&apiKey=7204ce63f69204c4c56fe50fffbfc172&httpAccept=application%2Fjson&insttoken=2fe87d6f56fc41a3a6ba27bca6bfbeca\n",
      "\"(\\\"energy efficiency\\\" OR \\\"energy efficient\\\") AND (\\\"rebound effect\\\" OR \\\"rebound effects\\\" OR \\\"jevons paradox\\\" OR \\\"khazzoom-brookes postulate\\\")\" 613\n",
      "2018-2019\n",
      "https://api.elsevier.com/content/search/sciencedirect?date=2018-2019&start=0&cursor=*&count=25&query=\"(\\\"energy efficiency\\\" OR \\\"energy efficient\\\") AND (\\\"rebound effect\\\" OR \\\"rebound effects\\\" OR \\\"jevons paradox\\\" OR \\\"khazzoom-brookes postulate\\\")\"&apiKey=7204ce63f69204c4c56fe50fffbfc172&httpAccept=application%2Fjson&insttoken=2fe87d6f56fc41a3a6ba27bca6bfbeca\n",
      "\"(\\\"energy efficiency\\\" OR \\\"energy efficient\\\") AND (\\\"rebound effect\\\" OR \\\"rebound effects\\\" OR \\\"jevons paradox\\\" OR \\\"khazzoom-brookes postulate\\\")\" 724\n",
      "2019-2020\n",
      "https://api.elsevier.com/content/search/sciencedirect?date=2019-2020&start=0&cursor=*&count=25&query=\"(\\\"energy efficiency\\\" OR \\\"energy efficient\\\") AND (\\\"rebound effect\\\" OR \\\"rebound effects\\\" OR \\\"jevons paradox\\\" OR \\\"khazzoom-brookes postulate\\\")\"&apiKey=7204ce63f69204c4c56fe50fffbfc172&httpAccept=application%2Fjson&insttoken=2fe87d6f56fc41a3a6ba27bca6bfbeca\n",
      "\"(\\\"energy efficiency\\\" OR \\\"energy efficient\\\") AND (\\\"rebound effect\\\" OR \\\"rebound effects\\\" OR \\\"jevons paradox\\\" OR \\\"khazzoom-brookes postulate\\\")\" 816\n",
      "2020-2021\n",
      "https://api.elsevier.com/content/search/sciencedirect?date=2020-2021&start=0&cursor=*&count=25&query=\"(\\\"energy efficiency\\\" OR \\\"energy efficient\\\") AND (\\\"rebound effect\\\" OR \\\"rebound effects\\\" OR \\\"jevons paradox\\\" OR \\\"khazzoom-brookes postulate\\\")\"&apiKey=7204ce63f69204c4c56fe50fffbfc172&httpAccept=application%2Fjson&insttoken=2fe87d6f56fc41a3a6ba27bca6bfbeca\n"
     ]
    },
    {
     "name": "stdout",
     "output_type": "stream",
     "text": [
      "\"(\\\"energy efficiency\\\" OR \\\"energy efficient\\\") AND (\\\"rebound effect\\\" OR \\\"rebound effects\\\" OR \\\"jevons paradox\\\" OR \\\"khazzoom-brookes postulate\\\")\" 883\n",
      "2021-2022\n",
      "https://api.elsevier.com/content/search/sciencedirect?date=2021-2022&start=0&cursor=*&count=25&query=\"(\\\"energy efficiency\\\" OR \\\"energy efficient\\\") AND (\\\"rebound effect\\\" OR \\\"rebound effects\\\" OR \\\"jevons paradox\\\" OR \\\"khazzoom-brookes postulate\\\")\"&apiKey=7204ce63f69204c4c56fe50fffbfc172&httpAccept=application%2Fjson&insttoken=2fe87d6f56fc41a3a6ba27bca6bfbeca\n",
      "\"(\\\"energy efficiency\\\" OR \\\"energy efficient\\\") AND (\\\"rebound effect\\\" OR \\\"rebound effects\\\" OR \\\"jevons paradox\\\" OR \\\"khazzoom-brookes postulate\\\")\" 701\n",
      "2015-2016\n",
      "https://api.elsevier.com/content/search/sciencedirect?date=2015-2016&start=0&cursor=*&count=25&query=\"(\\\"smart home\\\" OR \\\"smart home\\\") AND (\\\"energy efficiency\\\" OR \\\"energy efficient\\\") AND (\\\"rebound effect\\\" OR \\\"rebound effects\\\" OR \\\"jevons paradox\\\" OR \\\"khazzoom-brookes postulate\\\")\"&apiKey=7204ce63f69204c4c56fe50fffbfc172&httpAccept=application%2Fjson&insttoken=2fe87d6f56fc41a3a6ba27bca6bfbeca\n",
      "\"(\\\"smart home\\\" OR \\\"smart home\\\") AND (\\\"energy efficiency\\\" OR \\\"energy efficient\\\") AND (\\\"rebound effect\\\" OR \\\"rebound effects\\\" OR \\\"jevons paradox\\\" OR \\\"khazzoom-brookes postulate\\\")\" 4\n",
      "2016-2017\n",
      "https://api.elsevier.com/content/search/sciencedirect?date=2016-2017&start=0&cursor=*&count=25&query=\"(\\\"smart home\\\" OR \\\"smart home\\\") AND (\\\"energy efficiency\\\" OR \\\"energy efficient\\\") AND (\\\"rebound effect\\\" OR \\\"rebound effects\\\" OR \\\"jevons paradox\\\" OR \\\"khazzoom-brookes postulate\\\")\"&apiKey=7204ce63f69204c4c56fe50fffbfc172&httpAccept=application%2Fjson&insttoken=2fe87d6f56fc41a3a6ba27bca6bfbeca\n",
      "\"(\\\"smart home\\\" OR \\\"smart home\\\") AND (\\\"energy efficiency\\\" OR \\\"energy efficient\\\") AND (\\\"rebound effect\\\" OR \\\"rebound effects\\\" OR \\\"jevons paradox\\\" OR \\\"khazzoom-brookes postulate\\\")\" 9\n",
      "2017-2018\n",
      "https://api.elsevier.com/content/search/sciencedirect?date=2017-2018&start=0&cursor=*&count=25&query=\"(\\\"smart home\\\" OR \\\"smart home\\\") AND (\\\"energy efficiency\\\" OR \\\"energy efficient\\\") AND (\\\"rebound effect\\\" OR \\\"rebound effects\\\" OR \\\"jevons paradox\\\" OR \\\"khazzoom-brookes postulate\\\")\"&apiKey=7204ce63f69204c4c56fe50fffbfc172&httpAccept=application%2Fjson&insttoken=2fe87d6f56fc41a3a6ba27bca6bfbeca\n",
      "\"(\\\"smart home\\\" OR \\\"smart home\\\") AND (\\\"energy efficiency\\\" OR \\\"energy efficient\\\") AND (\\\"rebound effect\\\" OR \\\"rebound effects\\\" OR \\\"jevons paradox\\\" OR \\\"khazzoom-brookes postulate\\\")\" 17\n",
      "2018-2019\n",
      "https://api.elsevier.com/content/search/sciencedirect?date=2018-2019&start=0&cursor=*&count=25&query=\"(\\\"smart home\\\" OR \\\"smart home\\\") AND (\\\"energy efficiency\\\" OR \\\"energy efficient\\\") AND (\\\"rebound effect\\\" OR \\\"rebound effects\\\" OR \\\"jevons paradox\\\" OR \\\"khazzoom-brookes postulate\\\")\"&apiKey=7204ce63f69204c4c56fe50fffbfc172&httpAccept=application%2Fjson&insttoken=2fe87d6f56fc41a3a6ba27bca6bfbeca\n",
      "\"(\\\"smart home\\\" OR \\\"smart home\\\") AND (\\\"energy efficiency\\\" OR \\\"energy efficient\\\") AND (\\\"rebound effect\\\" OR \\\"rebound effects\\\" OR \\\"jevons paradox\\\" OR \\\"khazzoom-brookes postulate\\\")\" 22\n",
      "2019-2020\n",
      "https://api.elsevier.com/content/search/sciencedirect?date=2019-2020&start=0&cursor=*&count=25&query=\"(\\\"smart home\\\" OR \\\"smart home\\\") AND (\\\"energy efficiency\\\" OR \\\"energy efficient\\\") AND (\\\"rebound effect\\\" OR \\\"rebound effects\\\" OR \\\"jevons paradox\\\" OR \\\"khazzoom-brookes postulate\\\")\"&apiKey=7204ce63f69204c4c56fe50fffbfc172&httpAccept=application%2Fjson&insttoken=2fe87d6f56fc41a3a6ba27bca6bfbeca\n",
      "\"(\\\"smart home\\\" OR \\\"smart home\\\") AND (\\\"energy efficiency\\\" OR \\\"energy efficient\\\") AND (\\\"rebound effect\\\" OR \\\"rebound effects\\\" OR \\\"jevons paradox\\\" OR \\\"khazzoom-brookes postulate\\\")\" 32\n",
      "2020-2021\n",
      "https://api.elsevier.com/content/search/sciencedirect?date=2020-2021&start=0&cursor=*&count=25&query=\"(\\\"smart home\\\" OR \\\"smart home\\\") AND (\\\"energy efficiency\\\" OR \\\"energy efficient\\\") AND (\\\"rebound effect\\\" OR \\\"rebound effects\\\" OR \\\"jevons paradox\\\" OR \\\"khazzoom-brookes postulate\\\")\"&apiKey=7204ce63f69204c4c56fe50fffbfc172&httpAccept=application%2Fjson&insttoken=2fe87d6f56fc41a3a6ba27bca6bfbeca\n",
      "\"(\\\"smart home\\\" OR \\\"smart home\\\") AND (\\\"energy efficiency\\\" OR \\\"energy efficient\\\") AND (\\\"rebound effect\\\" OR \\\"rebound effects\\\" OR \\\"jevons paradox\\\" OR \\\"khazzoom-brookes postulate\\\")\" 46\n",
      "2021-2022\n",
      "https://api.elsevier.com/content/search/sciencedirect?date=2021-2022&start=0&cursor=*&count=25&query=\"(\\\"smart home\\\" OR \\\"smart home\\\") AND (\\\"energy efficiency\\\" OR \\\"energy efficient\\\") AND (\\\"rebound effect\\\" OR \\\"rebound effects\\\" OR \\\"jevons paradox\\\" OR \\\"khazzoom-brookes postulate\\\")\"&apiKey=7204ce63f69204c4c56fe50fffbfc172&httpAccept=application%2Fjson&insttoken=2fe87d6f56fc41a3a6ba27bca6bfbeca\n",
      "\"(\\\"smart home\\\" OR \\\"smart home\\\") AND (\\\"energy efficiency\\\" OR \\\"energy efficient\\\") AND (\\\"rebound effect\\\" OR \\\"rebound effects\\\" OR \\\"jevons paradox\\\" OR \\\"khazzoom-brookes postulate\\\")\" 37\n"
     ]
    }
   ],
   "source": [
    "for search_term in science_direct_search_queries:  \n",
    "    for year in ['2015-2016', '2016-2017', '2017-2018', '2018-2019', '2019-2020', '2020-2021', '2021-2022']:\n",
    "        print(year)\n",
    "        obj = GetTotal(database, search_term, \"science_direct_all.csv\", 0, year)\n",
    "        print(search_term, obj.search())\n",
    "        time.sleep(3)"
   ]
  },
  {
   "cell_type": "code",
   "execution_count": null,
   "metadata": {},
   "outputs": [],
   "source": []
  },
  {
   "cell_type": "code",
   "execution_count": null,
   "metadata": {},
   "outputs": [],
   "source": []
  },
  {
   "cell_type": "code",
   "execution_count": null,
   "metadata": {},
   "outputs": [],
   "source": [
    "scopus_search_queries_2 = [\n",
    "        'smart home*',\n",
    "        '\"energy\" AND \"efficien*\"',\n",
    "        '\"rebound effect\" OR \"jevons paradox\" OR \"khazzoom-brookes postulate\"', \n",
    "        '\"smart home*\" AND \"energy\" AND \"efficien*\"',\n",
    "        '\"smart home*\" AND (\"rebound effect\" OR \"jevons paradox\" OR \"khazzoom-brookes postulate\")',\n",
    "        '\"energy\" AND \"efficien*\" AND (\"rebound effect\" OR \"jevons paradox\" OR \"khazzoom-brookes postulate\")',\n",
    "        '\"energy\" AND \"efficien*\" AND \"smart home*\" AND (\"rebound effect\" OR \"jevons paradox\" OR \"khazzoom-brookes postulate\")',    \n",
    "    ]\n",
    "\n",
    "for search_term in scopus_search_queries_2:    \n",
    "    obj = GetTotal(database, search_term, \"temp.csv\", 0)\n",
    "    print(search_term, obj.search())"
   ]
  },
  {
   "cell_type": "code",
   "execution_count": 13,
   "metadata": {},
   "outputs": [
    {
     "data": {
      "text/plain": [
       "{'a': []}"
      ]
     },
     "execution_count": 13,
     "metadata": {},
     "output_type": "execute_result"
    }
   ],
   "source": [
    "{\"a\":[]}"
   ]
  },
  {
   "cell_type": "code",
   "execution_count": 15,
   "metadata": {},
   "outputs": [],
   "source": [
    "import pandas as pd"
   ]
  },
  {
   "cell_type": "code",
   "execution_count": 18,
   "metadata": {},
   "outputs": [
    {
     "data": {
      "text/html": [
       "<div>\n",
       "<style scoped>\n",
       "    .dataframe tbody tr th:only-of-type {\n",
       "        vertical-align: middle;\n",
       "    }\n",
       "\n",
       "    .dataframe tbody tr th {\n",
       "        vertical-align: top;\n",
       "    }\n",
       "\n",
       "    .dataframe thead th {\n",
       "        text-align: right;\n",
       "    }\n",
       "</style>\n",
       "<table border=\"1\" class=\"dataframe\">\n",
       "  <thead>\n",
       "    <tr style=\"text-align: right;\">\n",
       "      <th></th>\n",
       "      <th>a</th>\n",
       "      <th>b</th>\n",
       "    </tr>\n",
       "  </thead>\n",
       "  <tbody>\n",
       "    <tr>\n",
       "      <th>0</th>\n",
       "      <td>1</td>\n",
       "      <td>2</td>\n",
       "    </tr>\n",
       "    <tr>\n",
       "      <th>1</th>\n",
       "      <td>3</td>\n",
       "      <td>4</td>\n",
       "    </tr>\n",
       "  </tbody>\n",
       "</table>\n",
       "</div>"
      ],
      "text/plain": [
       "   a  b\n",
       "0  1  2\n",
       "1  3  4"
      ]
     },
     "execution_count": 18,
     "metadata": {},
     "output_type": "execute_result"
    }
   ],
   "source": [
    "pd.DataFrame(data=[[1,2],[3,4]], columns=[\"a\", \"b\"])"
   ]
  },
  {
   "cell_type": "code",
   "execution_count": null,
   "metadata": {},
   "outputs": [],
   "source": []
  }
 ],
 "metadata": {
  "kernelspec": {
   "display_name": "Python 3 (ipykernel)",
   "language": "python",
   "name": "python3"
  },
  "language_info": {
   "codemirror_mode": {
    "name": "ipython",
    "version": 3
   },
   "file_extension": ".py",
   "mimetype": "text/x-python",
   "name": "python",
   "nbconvert_exporter": "python",
   "pygments_lexer": "ipython3",
   "version": "3.10.4"
  }
 },
 "nbformat": 4,
 "nbformat_minor": 4
}
