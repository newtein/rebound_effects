{
 "cells": [
  {
   "cell_type": "code",
   "execution_count": 1,
   "metadata": {},
   "outputs": [],
   "source": [
    "from article_search_get_totals import GetTotal"
   ]
  },
  {
   "cell_type": "code",
   "execution_count": 2,
   "metadata": {},
   "outputs": [],
   "source": [
    "database = 'scopus'\n",
    "search_term =  'smart home*'"
   ]
  },
  {
   "cell_type": "code",
   "execution_count": 3,
   "metadata": {},
   "outputs": [],
   "source": [
    "scopus_search_queries = [\n",
    "        '\"smart home*\"',\n",
    "        '\"energy efficien*\"',\n",
    "        '\"rebound effect\" OR \"rebound effects\" OR \"jevons paradox\" OR \"khazzoom-brookes postulate\"', \n",
    "        '\"smart home*\" AND \"energy efficien*\"',\n",
    "        '\"smart home*\" AND (\"rebound effect\" OR \"rebound effects\" OR \"jevons paradox\" OR \"khazzoom-brookes postulate\")',\n",
    "        '\"energy efficien*\" AND (\"rebound effect\" OR \"rebound effects\" OR \"jevons paradox\" OR \"khazzoom-brookes postulate\")',\n",
    "        '\"energy efficien*\" AND \"smart home*\" AND (\"rebound effect\" OR \"rebound effects\" OR \"jevons paradox\" OR \"khazzoom-brookes postulate\")',    \n",
    "    ]"
   ]
  },
  {
   "cell_type": "code",
   "execution_count": 4,
   "metadata": {},
   "outputs": [
    {
     "name": "stdout",
     "output_type": "stream",
     "text": [
      "https://api.elsevier.com/content/search/scopus?start=0&cursor=*&count=25&query=TITLE-ABS-KEY(\"smart home*\")&apiKey=7204ce63f69204c4c56fe50fffbfc172&httpAccept=application%2Fjson&insttoken=2fe87d6f56fc41a3a6ba27bca6bfbeca\n",
      "\"smart home*\" 15502\n",
      "https://api.elsevier.com/content/search/scopus?start=0&cursor=*&count=25&query=TITLE-ABS-KEY(\"energy efficien*\")&apiKey=7204ce63f69204c4c56fe50fffbfc172&httpAccept=application%2Fjson&insttoken=2fe87d6f56fc41a3a6ba27bca6bfbeca\n",
      "\"energy efficien*\" 249167\n",
      "https://api.elsevier.com/content/search/scopus?start=0&cursor=*&count=25&query=TITLE-ABS-KEY(\"rebound effect\" OR \"rebound effects\" OR \"jevons paradox\" OR \"khazzoom-brookes postulate\")&apiKey=7204ce63f69204c4c56fe50fffbfc172&httpAccept=application%2Fjson&insttoken=2fe87d6f56fc41a3a6ba27bca6bfbeca\n",
      "\"rebound effect\" OR \"rebound effects\" OR \"jevons paradox\" OR \"khazzoom-brookes postulate\" 2714\n",
      "https://api.elsevier.com/content/search/scopus?start=0&cursor=*&count=25&query=TITLE-ABS-KEY(\"smart home*\" AND \"energy efficien*\")&apiKey=7204ce63f69204c4c56fe50fffbfc172&httpAccept=application%2Fjson&insttoken=2fe87d6f56fc41a3a6ba27bca6bfbeca\n",
      "\"smart home*\" AND \"energy efficien*\" 895\n",
      "https://api.elsevier.com/content/search/scopus?start=0&cursor=*&count=25&query=TITLE-ABS-KEY(\"smart home*\" AND (\"rebound effect\" OR \"rebound effects\" OR \"jevons paradox\" OR \"khazzoom-brookes postulate\"))&apiKey=7204ce63f69204c4c56fe50fffbfc172&httpAccept=application%2Fjson&insttoken=2fe87d6f56fc41a3a6ba27bca6bfbeca\n",
      "\"smart home*\" AND (\"rebound effect\" OR \"rebound effects\" OR \"jevons paradox\" OR \"khazzoom-brookes postulate\") 5\n",
      "https://api.elsevier.com/content/search/scopus?start=0&cursor=*&count=25&query=TITLE-ABS-KEY(\"energy efficien*\" AND (\"rebound effect\" OR \"rebound effects\" OR \"jevons paradox\" OR \"khazzoom-brookes postulate\"))&apiKey=7204ce63f69204c4c56fe50fffbfc172&httpAccept=application%2Fjson&insttoken=2fe87d6f56fc41a3a6ba27bca6bfbeca\n",
      "\"energy efficien*\" AND (\"rebound effect\" OR \"rebound effects\" OR \"jevons paradox\" OR \"khazzoom-brookes postulate\") 607\n",
      "https://api.elsevier.com/content/search/scopus?start=0&cursor=*&count=25&query=TITLE-ABS-KEY(\"energy efficien*\" AND \"smart home*\" AND (\"rebound effect\" OR \"rebound effects\" OR \"jevons paradox\" OR \"khazzoom-brookes postulate\"))&apiKey=7204ce63f69204c4c56fe50fffbfc172&httpAccept=application%2Fjson&insttoken=2fe87d6f56fc41a3a6ba27bca6bfbeca\n",
      "\"energy efficien*\" AND \"smart home*\" AND (\"rebound effect\" OR \"rebound effects\" OR \"jevons paradox\" OR \"khazzoom-brookes postulate\") 4\n"
     ]
    }
   ],
   "source": [
    "for search_term in scopus_search_queries:    \n",
    "    obj = GetTotal(database, search_term, \"scopus_all.csv\", 0)\n",
    "    print(search_term, obj.search())"
   ]
  },
  {
   "cell_type": "code",
   "execution_count": null,
   "metadata": {},
   "outputs": [],
   "source": []
  },
  {
   "cell_type": "code",
   "execution_count": null,
   "metadata": {},
   "outputs": [],
   "source": []
  },
  {
   "cell_type": "code",
   "execution_count": 10,
   "metadata": {},
   "outputs": [
    {
     "name": "stdout",
     "output_type": "stream",
     "text": [
      "https://api.elsevier.com/content/search/scopus?start=0&cursor=*&count=25&query=TITLE-ABS-KEY(\"smart home*\")&apiKey=7204ce63f69204c4c56fe50fffbfc172&httpAccept=application%2Fjson&insttoken=2fe87d6f56fc41a3a6ba27bca6bfbeca\n",
      "\"smart home*\" 15502\n",
      "https://api.elsevier.com/content/search/scopus?start=0&cursor=*&count=25&query=TITLE-ABS-KEY(\"energy\" AND \"efficien*\")&apiKey=7204ce63f69204c4c56fe50fffbfc172&httpAccept=application%2Fjson&insttoken=2fe87d6f56fc41a3a6ba27bca6bfbeca\n",
      "\"energy\" AND \"efficien*\" 862763\n",
      "https://api.elsevier.com/content/search/scopus?start=0&cursor=*&count=25&query=TITLE-ABS-KEY(\"rebound effect\" OR \"jevons paradox\" OR \"khazzoom-brookes postulate\")&apiKey=7204ce63f69204c4c56fe50fffbfc172&httpAccept=application%2Fjson&insttoken=2fe87d6f56fc41a3a6ba27bca6bfbeca\n",
      "\"rebound effect\" OR \"jevons paradox\" OR \"khazzoom-brookes postulate\" 2714\n",
      "https://api.elsevier.com/content/search/scopus?start=0&cursor=*&count=25&query=TITLE-ABS-KEY(\"smart home*\" AND \"energy\" AND \"efficien*\")&apiKey=7204ce63f69204c4c56fe50fffbfc172&httpAccept=application%2Fjson&insttoken=2fe87d6f56fc41a3a6ba27bca6bfbeca\n",
      "\"smart home*\" AND \"energy\" AND \"efficien*\" 1608\n",
      "https://api.elsevier.com/content/search/scopus?start=0&cursor=*&count=25&query=TITLE-ABS-KEY(\"smart home*\" AND (\"rebound effect\" OR \"jevons paradox\" OR \"khazzoom-brookes postulate\"))&apiKey=7204ce63f69204c4c56fe50fffbfc172&httpAccept=application%2Fjson&insttoken=2fe87d6f56fc41a3a6ba27bca6bfbeca\n",
      "\"smart home*\" AND (\"rebound effect\" OR \"jevons paradox\" OR \"khazzoom-brookes postulate\") 5\n",
      "https://api.elsevier.com/content/search/scopus?start=0&cursor=*&count=25&query=TITLE-ABS-KEY(\"energy\" AND \"efficien*\" AND (\"rebound effect\" OR \"jevons paradox\" OR \"khazzoom-brookes postulate\"))&apiKey=7204ce63f69204c4c56fe50fffbfc172&httpAccept=application%2Fjson&insttoken=2fe87d6f56fc41a3a6ba27bca6bfbeca\n",
      "\"energy\" AND \"efficien*\" AND (\"rebound effect\" OR \"jevons paradox\" OR \"khazzoom-brookes postulate\") 732\n",
      "https://api.elsevier.com/content/search/scopus?start=0&cursor=*&count=25&query=TITLE-ABS-KEY(\"energy\" AND \"efficien*\" AND \"smart home*\" AND (\"rebound effect\" OR \"jevons paradox\" OR \"khazzoom-brookes postulate\"))&apiKey=7204ce63f69204c4c56fe50fffbfc172&httpAccept=application%2Fjson&insttoken=2fe87d6f56fc41a3a6ba27bca6bfbeca\n",
      "\"energy\" AND \"efficien*\" AND \"smart home*\" AND (\"rebound effect\" OR \"jevons paradox\" OR \"khazzoom-brookes postulate\") 4\n"
     ]
    }
   ],
   "source": [
    "scopus_search_queries_2 = [\n",
    "        '\"smart home*\"',\n",
    "        '\"energy\" AND \"efficien*\"',\n",
    "        '\"rebound effect\" OR \"jevons paradox\" OR \"khazzoom-brookes postulate\"', \n",
    "        '\"smart home*\" AND \"energy\" AND \"efficien*\"',\n",
    "        '\"smart home*\" AND (\"rebound effect\" OR \"jevons paradox\" OR \"khazzoom-brookes postulate\")',\n",
    "        '\"energy\" AND \"efficien*\" AND (\"rebound effect\" OR \"jevons paradox\" OR \"khazzoom-brookes postulate\")',\n",
    "        '\"energy\" AND \"efficien*\" AND \"smart home*\" AND (\"rebound effect\" OR \"jevons paradox\" OR \"khazzoom-brookes postulate\")',    \n",
    "    ]\n",
    "\n",
    "for search_term in scopus_search_queries_2:    \n",
    "    obj = GetTotal(database, search_term, \"temp.csv\", 0)\n",
    "    print(search_term, obj.search())"
   ]
  },
  {
   "cell_type": "code",
   "execution_count": null,
   "metadata": {},
   "outputs": [],
   "source": []
  }
 ],
 "metadata": {
  "kernelspec": {
   "display_name": "Python 3 (ipykernel)",
   "language": "python",
   "name": "python3"
  },
  "language_info": {
   "codemirror_mode": {
    "name": "ipython",
    "version": 3
   },
   "file_extension": ".py",
   "mimetype": "text/x-python",
   "name": "python",
   "nbconvert_exporter": "python",
   "pygments_lexer": "ipython3",
   "version": "3.10.4"
  }
 },
 "nbformat": 4,
 "nbformat_minor": 4
}
