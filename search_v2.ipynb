{
 "cells": [
  {
   "cell_type": "code",
   "execution_count": 1,
   "metadata": {},
   "outputs": [],
   "source": [
    "from article_search_get_totals import GetTotal"
   ]
  },
  {
   "cell_type": "code",
   "execution_count": 2,
   "metadata": {},
   "outputs": [],
   "source": [
    "database = 'scopus'"
   ]
  },
  {
   "cell_type": "code",
   "execution_count": 3,
   "metadata": {},
   "outputs": [
    {
     "name": "stdout",
     "output_type": "stream",
     "text": [
      "https://api.elsevier.com/content/search/scopus?start=0&cursor=*&count=25&query=\"energy efficien*\" AND \"smart home*\" AND (\"rebound effect\" OR \"jevons paradox\" OR \"khazzoom-brookes postulate\")&apiKey=7204ce63f69204c4c56fe50fffbfc172&httpAccept=application%2Fjson&insttoken=2fe87d6f56fc41a3a6ba27bca6bfbeca\n",
      "https://api.elsevier.com/content/search/scopus?cursor=AoJdwIxNMjItczIuMC04NTEwMzMwNTExOA%3D%3D&count=25&query=%22energy+efficien*%22+AND+%22smart+home*%22+AND+%28%22rebound+effect%22+OR+%22jevons+paradox%22+OR+%22khazzoom-brookes+postulate%22%29&apiKey=7204ce63f69204c4c56fe50fffbfc172&httpAccept=application%2Fjson&insttoken=2fe87d6f56fc41a3a6ba27bca6bfbeca\n",
      "https://api.elsevier.com/content/search/scopus?cursor=AoJVm4xNMjItczIuMC04NTEwNTY3Mjc2OQ%3D%3D&count=25&query=%22energy+efficien*%22+AND+%22smart+home*%22+AND+%28%22rebound+effect%22+OR+%22jevons+paradox%22+OR+%22khazzoom-brookes+postulate%22%29&apiKey=7204ce63f69204c4c56fe50fffbfc172&httpAccept=application%2Fjson&insttoken=2fe87d6f56fc41a3a6ba27bca6bfbeca\n",
      "https://api.elsevier.com/content/search/scopus?cursor=AoJZyYdNMjItczIuMC04NTA4MTAwNjY0MA%3D%3D&count=25&query=%22energy+efficien*%22+AND+%22smart+home*%22+AND+%28%22rebound+effect%22+OR+%22jevons+paradox%22+OR+%22khazzoom-brookes+postulate%22%29&apiKey=7204ce63f69204c4c56fe50fffbfc172&httpAccept=application%2Fjson&insttoken=2fe87d6f56fc41a3a6ba27bca6bfbeca\n",
      "https://api.elsevier.com/content/search/scopus?cursor=AoJd3oJNMjItczIuMC04NTA2NDU0NzA5OA%3D%3D&count=25&query=%22energy+efficien*%22+AND+%22smart+home*%22+AND+%28%22rebound+effect%22+OR+%22jevons+paradox%22+OR+%22khazzoom-brookes+postulate%22%29&apiKey=7204ce63f69204c4c56fe50fffbfc172&httpAccept=application%2Fjson&insttoken=2fe87d6f56fc41a3a6ba27bca6bfbeca\n",
      "https://api.elsevier.com/content/search/scopus?cursor=AoJV4f1MMjItczIuMC04NTAzNjY0NzI1OQ%3D%3D&count=25&query=%22energy+efficien*%22+AND+%22smart+home*%22+AND+%28%22rebound+effect%22+OR+%22jevons+paradox%22+OR+%22khazzoom-brookes+postulate%22%29&apiKey=7204ce63f69204c4c56fe50fffbfc172&httpAccept=application%2Fjson&insttoken=2fe87d6f56fc41a3a6ba27bca6bfbeca\n",
      "https://api.elsevier.com/content/search/scopus?cursor=AoJZ3fhMMjItczIuMC04NDk2NDU0MzczOA%3D%3D&count=25&query=%22energy+efficien*%22+AND+%22smart+home*%22+AND+%28%22rebound+effect%22+OR+%22jevons+paradox%22+OR+%22khazzoom-brookes+postulate%22%29&apiKey=7204ce63f69204c4c56fe50fffbfc172&httpAccept=application%2Fjson&insttoken=2fe87d6f56fc41a3a6ba27bca6bfbeca\n",
      "https://api.elsevier.com/content/search/scopus?cursor=AoJRzuBMMjItczIuMC04NDg2NDAzOTMyNQ%3D%3D&count=25&query=%22energy+efficien*%22+AND+%22smart+home*%22+AND+%28%22rebound+effect%22+OR+%22jevons+paradox%22+OR+%22khazzoom-brookes+postulate%22%29&apiKey=7204ce63f69204c4c56fe50fffbfc172&httpAccept=application%2Fjson&insttoken=2fe87d6f56fc41a3a6ba27bca6bfbeca\n",
      "\"energy efficien*\" AND \"smart home*\" AND (\"rebound effect\" OR \"jevons paradox\" OR \"khazzoom-brookes postulate\") 175\n"
     ]
    }
   ],
   "source": [
    "search_term = '\"energy efficien*\" AND \"smart home*\" AND (\"rebound effect\" OR \"jevons paradox\" OR \"khazzoom-brookes postulate\")'\n",
    "obj = GetTotal(database, search_term, \"scopus_all.csv\", 1)\n",
    "print(search_term, obj.search())"
   ]
  },
  {
   "cell_type": "code",
   "execution_count": null,
   "metadata": {},
   "outputs": [],
   "source": []
  },
  {
   "cell_type": "code",
   "execution_count": null,
   "metadata": {},
   "outputs": [],
   "source": []
  }
 ],
 "metadata": {
  "kernelspec": {
   "display_name": "Python 3",
   "language": "python",
   "name": "python3"
  },
  "language_info": {
   "codemirror_mode": {
    "name": "ipython",
    "version": 3
   },
   "file_extension": ".py",
   "mimetype": "text/x-python",
   "name": "python",
   "nbconvert_exporter": "python",
   "pygments_lexer": "ipython3",
   "version": "3.7.9"
  }
 },
 "nbformat": 4,
 "nbformat_minor": 4
}
