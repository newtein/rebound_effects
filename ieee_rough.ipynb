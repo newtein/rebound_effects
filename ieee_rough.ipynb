{
 "cells": [
  {
   "cell_type": "code",
   "execution_count": 4,
   "id": "79cac130",
   "metadata": {},
   "outputs": [],
   "source": [
    "import requests\n"
   ]
  },
  {
   "cell_type": "code",
   "execution_count": 30,
   "id": "b50d6137",
   "metadata": {},
   "outputs": [],
   "source": [
    "s= \"(smart home OR smart homes)\"\n",
    "\n",
    "publication_year=2010"
   ]
  },
  {
   "cell_type": "code",
   "execution_count": 43,
   "id": "b7a4f27f",
   "metadata": {},
   "outputs": [],
   "source": [
    "scopus_search_queries = [\n",
    "        '\"smart home*\"',\n",
    "        '\"energy efficien*\"',\n",
    "        '(\"rebound effect\" OR \"rebound effects\" OR \"jevons paradox\" OR \"khazzoom-brookes postulate\")', \n",
    "        '\"smart home*\" AND \"energy efficien*\"',\n",
    "        '\"smart home*\" AND (\"rebound effect\" OR \"rebound effects\" OR \"jevons paradox\" OR \"khazzoom-brookes postulate\")',\n",
    "        '\"energy efficien*\" AND (\"rebound effect\" OR \"rebound effects\" OR \"jevons paradox\" OR \"khazzoom-brookes postulate\")',\n",
    "        '\"energy efficien*\" AND \"smart home*\" AND (\"rebound effect\" OR \"rebound effects\" OR \"jevons paradox\" OR \"khazzoom-brookes postulate\")',    \n",
    "    ]"
   ]
  },
  {
   "cell_type": "code",
   "execution_count": null,
   "id": "711b415b",
   "metadata": {},
   "outputs": [],
   "source": []
  },
  {
   "cell_type": "code",
   "execution_count": 44,
   "id": "eb549d55",
   "metadata": {},
   "outputs": [
    {
     "name": "stdout",
     "output_type": "stream",
     "text": [
      "\"smart home*\" 7427\n",
      "\"energy efficien*\" 68007\n",
      "(\"rebound effect\" OR \"rebound effects\" OR \"jevons paradox\" OR \"khazzoom-brookes postulate\") 81\n",
      "\"smart home*\" AND \"energy efficien*\" 384\n",
      "\"smart home*\" AND (\"rebound effect\" OR \"rebound effects\" OR \"jevons paradox\" OR \"khazzoom-brookes postulate\") 1\n",
      "\"energy efficien*\" AND (\"rebound effect\" OR \"rebound effects\" OR \"jevons paradox\" OR \"khazzoom-brookes postulate\") 18\n",
      "\"energy efficien*\" AND \"smart home*\" AND (\"rebound effect\" OR \"rebound effects\" OR \"jevons paradox\" OR \"khazzoom-brookes postulate\") 0\n"
     ]
    }
   ],
   "source": [
    "for s in scopus_search_queries:\n",
    "    url = \"https://ieeexploreapi.ieee.org/api/v1/search/articles?querytext={}&apikey=4tsy5qmmkbhvqk6j73fj4f26\".format(s, publication_year)\n",
    "    headers = {\n",
    "        'user-agent': 'Mozilla/5.0 (Windows NT 10.0; Win64; x64) AppleWebKit/537.36 (KHTML, like Gecko) Chrome/86.0.4240.75 Safari/537.36',\n",
    "        'Content-Type': 'application/json',\n",
    "       }\n",
    "    r = requests.get(url, headers=headers)\n",
    "    out = r.json()\n",
    "    print(s, out.get('total_records'))"
   ]
  },
  {
   "cell_type": "code",
   "execution_count": 29,
   "id": "7d8177cc",
   "metadata": {},
   "outputs": [
    {
     "data": {
      "text/plain": [
       "<Response [200]>"
      ]
     },
     "execution_count": 29,
     "metadata": {},
     "output_type": "execute_result"
    }
   ],
   "source": [
    "r"
   ]
  },
  {
   "cell_type": "code",
   "execution_count": null,
   "id": "ae3ee06c",
   "metadata": {},
   "outputs": [],
   "source": []
  }
 ],
 "metadata": {
  "kernelspec": {
   "display_name": "Python 3 (ipykernel)",
   "language": "python",
   "name": "python3"
  },
  "language_info": {
   "codemirror_mode": {
    "name": "ipython",
    "version": 3
   },
   "file_extension": ".py",
   "mimetype": "text/x-python",
   "name": "python",
   "nbconvert_exporter": "python",
   "pygments_lexer": "ipython3",
   "version": "3.10.4"
  }
 },
 "nbformat": 4,
 "nbformat_minor": 5
}
