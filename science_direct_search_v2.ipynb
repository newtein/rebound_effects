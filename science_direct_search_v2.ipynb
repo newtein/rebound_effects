{
 "cells": [
  {
   "cell_type": "code",
   "execution_count": 1,
   "metadata": {},
   "outputs": [],
   "source": [
    "from article_search_get_totals import GetTotal"
   ]
  },
  {
   "cell_type": "code",
   "execution_count": 2,
   "metadata": {},
   "outputs": [],
   "source": [
    "database = 'science_direct'"
   ]
  },
  {
   "cell_type": "code",
   "execution_count": 3,
   "metadata": {},
   "outputs": [
    {
     "name": "stdout",
     "output_type": "stream",
     "text": [
      "https://api.elsevier.com/content/search/sciencedirect?start=0&cursor=*&count=25&query=\"energy efficiency\" AND \"smart home\" AND (\"rebound effect\" OR \"jevons paradox\" OR \"khazzoom-brookes postulate\")&apiKey=7204ce63f69204c4c56fe50fffbfc172&httpAccept=application%2Fjson&insttoken=2fe87d6f56fc41a3a6ba27bca6bfbeca\n",
      "https://api.elsevier.com/content/search/sciencedirect?start=25&count=25&query=%22energy+efficiency%22+AND+%22smart+home%22+AND+%28%22rebound+effect%22+OR+%22jevons+paradox%22+OR+%22khazzoom-brookes+postulate%22%29&apiKey=7204ce63f69204c4c56fe50fffbfc172&httpAccept=application%2Fjson&insttoken=2fe87d6f56fc41a3a6ba27bca6bfbeca\n",
      "https://api.elsevier.com/content/search/sciencedirect?start=50&count=25&query=%22energy+efficiency%22+AND+%22smart+home%22+AND+%28%22rebound+effect%22+OR+%22jevons+paradox%22+OR+%22khazzoom-brookes+postulate%22%29&apiKey=7204ce63f69204c4c56fe50fffbfc172&httpAccept=application%2Fjson&insttoken=2fe87d6f56fc41a3a6ba27bca6bfbeca\n",
      "https://api.elsevier.com/content/search/sciencedirect?start=75&count=25&query=%22energy+efficiency%22+AND+%22smart+home%22+AND+%28%22rebound+effect%22+OR+%22jevons+paradox%22+OR+%22khazzoom-brookes+postulate%22%29&apiKey=7204ce63f69204c4c56fe50fffbfc172&httpAccept=application%2Fjson&insttoken=2fe87d6f56fc41a3a6ba27bca6bfbeca\n",
      "https://api.elsevier.com/content/search/sciencedirect?start=100&count=25&query=%22energy+efficiency%22+AND+%22smart+home%22+AND+%28%22rebound+effect%22+OR+%22jevons+paradox%22+OR+%22khazzoom-brookes+postulate%22%29&apiKey=7204ce63f69204c4c56fe50fffbfc172&httpAccept=application%2Fjson&insttoken=2fe87d6f56fc41a3a6ba27bca6bfbeca\n",
      "https://api.elsevier.com/content/search/sciencedirect?start=125&count=25&query=%22energy+efficiency%22+AND+%22smart+home%22+AND+%28%22rebound+effect%22+OR+%22jevons+paradox%22+OR+%22khazzoom-brookes+postulate%22%29&apiKey=7204ce63f69204c4c56fe50fffbfc172&httpAccept=application%2Fjson&insttoken=2fe87d6f56fc41a3a6ba27bca6bfbeca\n",
      "https://api.elsevier.com/content/search/sciencedirect?start=150&count=25&query=%22energy+efficiency%22+AND+%22smart+home%22+AND+%28%22rebound+effect%22+OR+%22jevons+paradox%22+OR+%22khazzoom-brookes+postulate%22%29&apiKey=7204ce63f69204c4c56fe50fffbfc172&httpAccept=application%2Fjson&insttoken=2fe87d6f56fc41a3a6ba27bca6bfbeca\n",
      "https://api.elsevier.com/content/search/sciencedirect?start=175&count=25&query=%22energy+efficiency%22+AND+%22smart+home%22+AND+%28%22rebound+effect%22+OR+%22jevons+paradox%22+OR+%22khazzoom-brookes+postulate%22%29&apiKey=7204ce63f69204c4c56fe50fffbfc172&httpAccept=application%2Fjson&insttoken=2fe87d6f56fc41a3a6ba27bca6bfbeca\n",
      "https://api.elsevier.com/content/search/sciencedirect?start=200&count=25&query=%22energy+efficiency%22+AND+%22smart+home%22+AND+%28%22rebound+effect%22+OR+%22jevons+paradox%22+OR+%22khazzoom-brookes+postulate%22%29&apiKey=7204ce63f69204c4c56fe50fffbfc172&httpAccept=application%2Fjson&insttoken=2fe87d6f56fc41a3a6ba27bca6bfbeca\n",
      "https://api.elsevier.com/content/search/sciencedirect?start=225&count=25&query=%22energy+efficiency%22+AND+%22smart+home%22+AND+%28%22rebound+effect%22+OR+%22jevons+paradox%22+OR+%22khazzoom-brookes+postulate%22%29&apiKey=7204ce63f69204c4c56fe50fffbfc172&httpAccept=application%2Fjson&insttoken=2fe87d6f56fc41a3a6ba27bca6bfbeca\n",
      "https://api.elsevier.com/content/search/sciencedirect?start=250&count=25&query=%22energy+efficiency%22+AND+%22smart+home%22+AND+%28%22rebound+effect%22+OR+%22jevons+paradox%22+OR+%22khazzoom-brookes+postulate%22%29&apiKey=7204ce63f69204c4c56fe50fffbfc172&httpAccept=application%2Fjson&insttoken=2fe87d6f56fc41a3a6ba27bca6bfbeca\n",
      "https://api.elsevier.com/content/search/sciencedirect?start=275&count=25&query=%22energy+efficiency%22+AND+%22smart+home%22+AND+%28%22rebound+effect%22+OR+%22jevons+paradox%22+OR+%22khazzoom-brookes+postulate%22%29&apiKey=7204ce63f69204c4c56fe50fffbfc172&httpAccept=application%2Fjson&insttoken=2fe87d6f56fc41a3a6ba27bca6bfbeca\n",
      "https://api.elsevier.com/content/search/sciencedirect?start=300&count=25&query=%22energy+efficiency%22+AND+%22smart+home%22+AND+%28%22rebound+effect%22+OR+%22jevons+paradox%22+OR+%22khazzoom-brookes+postulate%22%29&apiKey=7204ce63f69204c4c56fe50fffbfc172&httpAccept=application%2Fjson&insttoken=2fe87d6f56fc41a3a6ba27bca6bfbeca\n",
      "https://api.elsevier.com/content/search/sciencedirect?start=325&count=25&query=%22energy+efficiency%22+AND+%22smart+home%22+AND+%28%22rebound+effect%22+OR+%22jevons+paradox%22+OR+%22khazzoom-brookes+postulate%22%29&apiKey=7204ce63f69204c4c56fe50fffbfc172&httpAccept=application%2Fjson&insttoken=2fe87d6f56fc41a3a6ba27bca6bfbeca\n",
      "https://api.elsevier.com/content/search/sciencedirect?start=350&count=25&query=%22energy+efficiency%22+AND+%22smart+home%22+AND+%28%22rebound+effect%22+OR+%22jevons+paradox%22+OR+%22khazzoom-brookes+postulate%22%29&apiKey=7204ce63f69204c4c56fe50fffbfc172&httpAccept=application%2Fjson&insttoken=2fe87d6f56fc41a3a6ba27bca6bfbeca\n",
      "https://api.elsevier.com/content/search/sciencedirect?start=375&count=25&query=%22energy+efficiency%22+AND+%22smart+home%22+AND+%28%22rebound+effect%22+OR+%22jevons+paradox%22+OR+%22khazzoom-brookes+postulate%22%29&apiKey=7204ce63f69204c4c56fe50fffbfc172&httpAccept=application%2Fjson&insttoken=2fe87d6f56fc41a3a6ba27bca6bfbeca\n",
      "https://api.elsevier.com/content/search/sciencedirect?start=400&count=25&query=%22energy+efficiency%22+AND+%22smart+home%22+AND+%28%22rebound+effect%22+OR+%22jevons+paradox%22+OR+%22khazzoom-brookes+postulate%22%29&apiKey=7204ce63f69204c4c56fe50fffbfc172&httpAccept=application%2Fjson&insttoken=2fe87d6f56fc41a3a6ba27bca6bfbeca\n",
      "https://api.elsevier.com/content/search/sciencedirect?start=425&count=25&query=%22energy+efficiency%22+AND+%22smart+home%22+AND+%28%22rebound+effect%22+OR+%22jevons+paradox%22+OR+%22khazzoom-brookes+postulate%22%29&apiKey=7204ce63f69204c4c56fe50fffbfc172&httpAccept=application%2Fjson&insttoken=2fe87d6f56fc41a3a6ba27bca6bfbeca\n",
      "https://api.elsevier.com/content/search/sciencedirect?start=450&count=25&query=%22energy+efficiency%22+AND+%22smart+home%22+AND+%28%22rebound+effect%22+OR+%22jevons+paradox%22+OR+%22khazzoom-brookes+postulate%22%29&apiKey=7204ce63f69204c4c56fe50fffbfc172&httpAccept=application%2Fjson&insttoken=2fe87d6f56fc41a3a6ba27bca6bfbeca\n",
      "https://api.elsevier.com/content/search/sciencedirect?start=475&count=25&query=%22energy+efficiency%22+AND+%22smart+home%22+AND+%28%22rebound+effect%22+OR+%22jevons+paradox%22+OR+%22khazzoom-brookes+postulate%22%29&apiKey=7204ce63f69204c4c56fe50fffbfc172&httpAccept=application%2Fjson&insttoken=2fe87d6f56fc41a3a6ba27bca6bfbeca\n",
      "https://api.elsevier.com/content/search/sciencedirect?start=500&count=25&query=%22energy+efficiency%22+AND+%22smart+home%22+AND+%28%22rebound+effect%22+OR+%22jevons+paradox%22+OR+%22khazzoom-brookes+postulate%22%29&apiKey=7204ce63f69204c4c56fe50fffbfc172&httpAccept=application%2Fjson&insttoken=2fe87d6f56fc41a3a6ba27bca6bfbeca\n",
      "https://api.elsevier.com/content/search/sciencedirect?start=525&count=25&query=%22energy+efficiency%22+AND+%22smart+home%22+AND+%28%22rebound+effect%22+OR+%22jevons+paradox%22+OR+%22khazzoom-brookes+postulate%22%29&apiKey=7204ce63f69204c4c56fe50fffbfc172&httpAccept=application%2Fjson&insttoken=2fe87d6f56fc41a3a6ba27bca6bfbeca\n",
      "https://api.elsevier.com/content/search/sciencedirect?start=550&count=25&query=%22energy+efficiency%22+AND+%22smart+home%22+AND+%28%22rebound+effect%22+OR+%22jevons+paradox%22+OR+%22khazzoom-brookes+postulate%22%29&apiKey=7204ce63f69204c4c56fe50fffbfc172&httpAccept=application%2Fjson&insttoken=2fe87d6f56fc41a3a6ba27bca6bfbeca\n",
      "https://api.elsevier.com/content/search/sciencedirect?start=575&count=25&query=%22energy+efficiency%22+AND+%22smart+home%22+AND+%28%22rebound+effect%22+OR+%22jevons+paradox%22+OR+%22khazzoom-brookes+postulate%22%29&apiKey=7204ce63f69204c4c56fe50fffbfc172&httpAccept=application%2Fjson&insttoken=2fe87d6f56fc41a3a6ba27bca6bfbeca\n",
      "https://api.elsevier.com/content/search/sciencedirect?start=600&count=25&query=%22energy+efficiency%22+AND+%22smart+home%22+AND+%28%22rebound+effect%22+OR+%22jevons+paradox%22+OR+%22khazzoom-brookes+postulate%22%29&apiKey=7204ce63f69204c4c56fe50fffbfc172&httpAccept=application%2Fjson&insttoken=2fe87d6f56fc41a3a6ba27bca6bfbeca\n",
      "https://api.elsevier.com/content/search/sciencedirect?start=625&count=25&query=%22energy+efficiency%22+AND+%22smart+home%22+AND+%28%22rebound+effect%22+OR+%22jevons+paradox%22+OR+%22khazzoom-brookes+postulate%22%29&apiKey=7204ce63f69204c4c56fe50fffbfc172&httpAccept=application%2Fjson&insttoken=2fe87d6f56fc41a3a6ba27bca6bfbeca\n"
     ]
    },
    {
     "name": "stdout",
     "output_type": "stream",
     "text": [
      "https://api.elsevier.com/content/search/sciencedirect?start=650&count=25&query=%22energy+efficiency%22+AND+%22smart+home%22+AND+%28%22rebound+effect%22+OR+%22jevons+paradox%22+OR+%22khazzoom-brookes+postulate%22%29&apiKey=7204ce63f69204c4c56fe50fffbfc172&httpAccept=application%2Fjson&insttoken=2fe87d6f56fc41a3a6ba27bca6bfbeca\n",
      "https://api.elsevier.com/content/search/sciencedirect?start=675&count=25&query=%22energy+efficiency%22+AND+%22smart+home%22+AND+%28%22rebound+effect%22+OR+%22jevons+paradox%22+OR+%22khazzoom-brookes+postulate%22%29&apiKey=7204ce63f69204c4c56fe50fffbfc172&httpAccept=application%2Fjson&insttoken=2fe87d6f56fc41a3a6ba27bca6bfbeca\n",
      "https://api.elsevier.com/content/search/sciencedirect?start=700&count=25&query=%22energy+efficiency%22+AND+%22smart+home%22+AND+%28%22rebound+effect%22+OR+%22jevons+paradox%22+OR+%22khazzoom-brookes+postulate%22%29&apiKey=7204ce63f69204c4c56fe50fffbfc172&httpAccept=application%2Fjson&insttoken=2fe87d6f56fc41a3a6ba27bca6bfbeca\n",
      "https://api.elsevier.com/content/search/sciencedirect?start=725&count=25&query=%22energy+efficiency%22+AND+%22smart+home%22+AND+%28%22rebound+effect%22+OR+%22jevons+paradox%22+OR+%22khazzoom-brookes+postulate%22%29&apiKey=7204ce63f69204c4c56fe50fffbfc172&httpAccept=application%2Fjson&insttoken=2fe87d6f56fc41a3a6ba27bca6bfbeca\n",
      "https://api.elsevier.com/content/search/sciencedirect?start=750&count=25&query=%22energy+efficiency%22+AND+%22smart+home%22+AND+%28%22rebound+effect%22+OR+%22jevons+paradox%22+OR+%22khazzoom-brookes+postulate%22%29&apiKey=7204ce63f69204c4c56fe50fffbfc172&httpAccept=application%2Fjson&insttoken=2fe87d6f56fc41a3a6ba27bca6bfbeca\n",
      "https://api.elsevier.com/content/search/sciencedirect?start=775&count=25&query=%22energy+efficiency%22+AND+%22smart+home%22+AND+%28%22rebound+effect%22+OR+%22jevons+paradox%22+OR+%22khazzoom-brookes+postulate%22%29&apiKey=7204ce63f69204c4c56fe50fffbfc172&httpAccept=application%2Fjson&insttoken=2fe87d6f56fc41a3a6ba27bca6bfbeca\n",
      "https://api.elsevier.com/content/search/sciencedirect?start=800&count=25&query=%22energy+efficiency%22+AND+%22smart+home%22+AND+%28%22rebound+effect%22+OR+%22jevons+paradox%22+OR+%22khazzoom-brookes+postulate%22%29&apiKey=7204ce63f69204c4c56fe50fffbfc172&httpAccept=application%2Fjson&insttoken=2fe87d6f56fc41a3a6ba27bca6bfbeca\n",
      "https://api.elsevier.com/content/search/sciencedirect?start=825&count=25&query=%22energy+efficiency%22+AND+%22smart+home%22+AND+%28%22rebound+effect%22+OR+%22jevons+paradox%22+OR+%22khazzoom-brookes+postulate%22%29&apiKey=7204ce63f69204c4c56fe50fffbfc172&httpAccept=application%2Fjson&insttoken=2fe87d6f56fc41a3a6ba27bca6bfbeca\n",
      "https://api.elsevier.com/content/search/sciencedirect?start=850&count=25&query=%22energy+efficiency%22+AND+%22smart+home%22+AND+%28%22rebound+effect%22+OR+%22jevons+paradox%22+OR+%22khazzoom-brookes+postulate%22%29&apiKey=7204ce63f69204c4c56fe50fffbfc172&httpAccept=application%2Fjson&insttoken=2fe87d6f56fc41a3a6ba27bca6bfbeca\n",
      "https://api.elsevier.com/content/search/sciencedirect?start=875&count=25&query=%22energy+efficiency%22+AND+%22smart+home%22+AND+%28%22rebound+effect%22+OR+%22jevons+paradox%22+OR+%22khazzoom-brookes+postulate%22%29&apiKey=7204ce63f69204c4c56fe50fffbfc172&httpAccept=application%2Fjson&insttoken=2fe87d6f56fc41a3a6ba27bca6bfbeca\n",
      "https://api.elsevier.com/content/search/sciencedirect?start=900&count=25&query=%22energy+efficiency%22+AND+%22smart+home%22+AND+%28%22rebound+effect%22+OR+%22jevons+paradox%22+OR+%22khazzoom-brookes+postulate%22%29&apiKey=7204ce63f69204c4c56fe50fffbfc172&httpAccept=application%2Fjson&insttoken=2fe87d6f56fc41a3a6ba27bca6bfbeca\n",
      "https://api.elsevier.com/content/search/sciencedirect?start=925&count=25&query=%22energy+efficiency%22+AND+%22smart+home%22+AND+%28%22rebound+effect%22+OR+%22jevons+paradox%22+OR+%22khazzoom-brookes+postulate%22%29&apiKey=7204ce63f69204c4c56fe50fffbfc172&httpAccept=application%2Fjson&insttoken=2fe87d6f56fc41a3a6ba27bca6bfbeca\n",
      "https://api.elsevier.com/content/search/sciencedirect?start=950&count=25&query=%22energy+efficiency%22+AND+%22smart+home%22+AND+%28%22rebound+effect%22+OR+%22jevons+paradox%22+OR+%22khazzoom-brookes+postulate%22%29&apiKey=7204ce63f69204c4c56fe50fffbfc172&httpAccept=application%2Fjson&insttoken=2fe87d6f56fc41a3a6ba27bca6bfbeca\n",
      "1\n",
      "Invalid URL '1': No schema supplied. Perhaps you meant http://1?\n",
      "\"energy efficiency\" AND \"smart home\" AND (\"rebound effect\" OR \"jevons paradox\" OR \"khazzoom-brookes postulate\") 956\n"
     ]
    }
   ],
   "source": [
    "search_term = '\"energy efficiency\" AND \"smart home\" AND (\"rebound effect\" OR \"jevons paradox\" OR \"khazzoom-brookes postulate\")'\n",
    "obj = GetTotal(database, search_term, \"science_direct_all.csv\", 1)\n",
    "print(search_term, obj.search())"
   ]
  },
  {
   "cell_type": "code",
   "execution_count": null,
   "metadata": {},
   "outputs": [],
   "source": []
  },
  {
   "cell_type": "code",
   "execution_count": null,
   "metadata": {},
   "outputs": [],
   "source": []
  }
 ],
 "metadata": {
  "kernelspec": {
   "display_name": "Python 3",
   "language": "python",
   "name": "python3"
  },
  "language_info": {
   "codemirror_mode": {
    "name": "ipython",
    "version": 3
   },
   "file_extension": ".py",
   "mimetype": "text/x-python",
   "name": "python",
   "nbconvert_exporter": "python",
   "pygments_lexer": "ipython3",
   "version": "3.7.9"
  }
 },
 "nbformat": 4,
 "nbformat_minor": 4
}
