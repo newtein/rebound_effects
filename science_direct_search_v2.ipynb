{
 "cells": [
  {
   "cell_type": "code",
   "execution_count": 1,
   "metadata": {},
   "outputs": [],
   "source": [
    "from article_search_get_totals import GetTotal"
   ]
  },
  {
   "cell_type": "code",
   "execution_count": 2,
   "metadata": {},
   "outputs": [],
   "source": [
    "database = 'science_direct'"
   ]
  },
  {
   "cell_type": "code",
   "execution_count": 3,
   "metadata": {
    "scrolled": true
   },
   "outputs": [
    {
     "name": "stdout",
     "output_type": "stream",
     "text": [
      "https://api.elsevier.com/content/search/sciencedirect?start=0&cursor=*&count=25&query=\"(\\\"smart home\\\" OR \\\"smart home\\\") AND (\\\"energy efficiency\\\" OR \\\"energy efficient\\\") AND (\\\"rebound effect\\\" OR \\\"rebound effects\\\" OR \\\"jevons paradox\\\" OR \\\"khazzoom-brookes postulate\\\")\"&apiKey=7204ce63f69204c4c56fe50fffbfc172&httpAccept=application%2Fjson&insttoken=2fe87d6f56fc41a3a6ba27bca6bfbeca\n",
      "https://api.elsevier.com/content/search/sciencedirect?start=25&count=25&query=%22%28%5C%22smart+home%5C%22+OR+%5C%22smart+home%5C%22%29+AND+%28%5C%22energy+efficiency%5C%22+OR+%5C%22energy+efficient%5C%22%29+AND+%28%5C%22rebound+effect%5C%22+OR+%5C%22rebound+effects%5C%22+OR+%5C%22jevons+paradox%5C%22+OR+%5C%22khazzoom-brookes+postulate%5C%22%29%22&apiKey=7204ce63f69204c4c56fe50fffbfc172&httpAccept=application%2Fjson&insttoken=2fe87d6f56fc41a3a6ba27bca6bfbeca\n",
      "https://api.elsevier.com/content/search/sciencedirect?start=50&count=25&query=%22%28%5C%22smart+home%5C%22+OR+%5C%22smart+home%5C%22%29+AND+%28%5C%22energy+efficiency%5C%22+OR+%5C%22energy+efficient%5C%22%29+AND+%28%5C%22rebound+effect%5C%22+OR+%5C%22rebound+effects%5C%22+OR+%5C%22jevons+paradox%5C%22+OR+%5C%22khazzoom-brookes+postulate%5C%22%29%22&apiKey=7204ce63f69204c4c56fe50fffbfc172&httpAccept=application%2Fjson&insttoken=2fe87d6f56fc41a3a6ba27bca6bfbeca\n",
      "https://api.elsevier.com/content/search/sciencedirect?start=75&count=25&query=%22%28%5C%22smart+home%5C%22+OR+%5C%22smart+home%5C%22%29+AND+%28%5C%22energy+efficiency%5C%22+OR+%5C%22energy+efficient%5C%22%29+AND+%28%5C%22rebound+effect%5C%22+OR+%5C%22rebound+effects%5C%22+OR+%5C%22jevons+paradox%5C%22+OR+%5C%22khazzoom-brookes+postulate%5C%22%29%22&apiKey=7204ce63f69204c4c56fe50fffbfc172&httpAccept=application%2Fjson&insttoken=2fe87d6f56fc41a3a6ba27bca6bfbeca\n",
      "1\n",
      "Invalid URL '1': No schema supplied. Perhaps you meant http://1?\n",
      "\"(\\\"smart home\\\" OR \\\"smart home\\\") AND (\\\"energy efficiency\\\" OR \\\"energy efficient\\\") AND (\\\"rebound effect\\\" OR \\\"rebound effects\\\" OR \\\"jevons paradox\\\" OR \\\"khazzoom-brookes postulate\\\")\" 92\n"
     ]
    }
   ],
   "source": [
    "search_term =\"\\\"(\\\\\\\"smart home\\\\\\\" OR \\\\\\\"smart home\\\\\\\") AND (\\\\\\\"energy efficiency\\\\\\\" OR \\\\\\\"energy efficient\\\\\\\") AND (\\\\\\\"rebound effect\\\\\\\" OR \\\\\\\"rebound effects\\\\\\\" OR \\\\\\\"jevons paradox\\\\\\\" OR \\\\\\\"khazzoom-brookes postulate\\\\\\\")\\\"\"  \n",
    "\n",
    "\n",
    "\n",
    "obj = GetTotal(database, search_term, \"science_direct_all.csv\", 1)\n",
    "print(search_term, obj.search())"
   ]
  },
  {
   "cell_type": "code",
   "execution_count": null,
   "metadata": {},
   "outputs": [],
   "source": []
  },
  {
   "cell_type": "code",
   "execution_count": null,
   "metadata": {},
   "outputs": [],
   "source": []
  }
 ],
 "metadata": {
  "kernelspec": {
   "display_name": "Python 3",
   "language": "python",
   "name": "python3"
  },
  "language_info": {
   "codemirror_mode": {
    "name": "ipython",
    "version": 3
   },
   "file_extension": ".py",
   "mimetype": "text/x-python",
   "name": "python",
   "nbconvert_exporter": "python",
   "pygments_lexer": "ipython3",
   "version": "3.7.9"
  }
 },
 "nbformat": 4,
 "nbformat_minor": 4
}
