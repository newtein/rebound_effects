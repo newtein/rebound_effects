{
 "cells": [
  {
   "cell_type": "code",
   "execution_count": 1,
   "metadata": {},
   "outputs": [],
   "source": [
    "from article_full_text import ArticleContent"
   ]
  },
  {
   "cell_type": "code",
   "execution_count": 2,
   "metadata": {},
   "outputs": [],
   "source": [
    "database = 'science_direct'\n",
    "db_dir = 'docs_sd'\n",
    "fname = 'science_direct_all.csv'"
   ]
  },
  {
   "cell_type": "code",
   "execution_count": 3,
   "metadata": {},
   "outputs": [
    {
     "name": "stdout",
     "output_type": "stream",
     "text": [
      "Found 10.1016/j.rser.2020.109798/docs_sd/10.1016$&$j.rser.2020.109798.txt\n",
      "Found 10.1016/j.erss.2021.102211/docs_sd/10.1016$&$j.erss.2021.102211.txt\n",
      "Found 10.1016/j.egycc.2021.100035/docs_sd/10.1016$&$j.egycc.2021.100035.txt\n",
      "Found 10.1016/j.energy.2021.122774/docs_sd/10.1016$&$j.energy.2021.122774.txt\n",
      "Found 10.1016/j.egypro.2018.07.026/docs_sd/10.1016$&$j.egypro.2018.07.026.txt\n",
      "Found 10.1016/j.jclepro.2021.127845/docs_sd/10.1016$&$j.jclepro.2021.127845.txt\n",
      "Found 10.1016/j.enpol.2020.111631/docs_sd/10.1016$&$j.enpol.2020.111631.txt\n",
      "Found 10.1016/j.rser.2019.109663/docs_sd/10.1016$&$j.rser.2019.109663.txt\n",
      "Found 10.1016/j.rser.2019.05.038/docs_sd/10.1016$&$j.rser.2019.05.038.txt\n",
      "Found 10.1016/j.erss.2017.02.008/docs_sd/10.1016$&$j.erss.2017.02.008.txt\n",
      "Found 10.1016/j.energy.2020.116993/docs_sd/10.1016$&$j.energy.2020.116993.txt\n",
      "Found 10.1016/j.erss.2014.07.007/docs_sd/10.1016$&$j.erss.2014.07.007.txt\n",
      "https://api.elsevier.com/content/article/doi/10.1016/j.eist.2021.01.003?apiKey=7204ce63f69204c4c56fe50fffbfc172&insttoken=2fe87d6f56fc41a3a6ba27bca6bfbeca&httpAccept=application%2Fjson\n",
      "Found 10.1016/j.enbuild.2018.08.026/docs_sd/10.1016$&$j.enbuild.2018.08.026.txt\n",
      "https://api.elsevier.com/content/article/doi/10.1016/j.clrc.2021.100032?apiKey=7204ce63f69204c4c56fe50fffbfc172&insttoken=2fe87d6f56fc41a3a6ba27bca6bfbeca&httpAccept=application%2Fjson\n",
      "Found 10.1016/j.jclepro.2017.03.001/docs_sd/10.1016$&$j.jclepro.2017.03.001.txt\n",
      "https://api.elsevier.com/content/article/doi/10.1016/j.rser.2019.01.004?apiKey=7204ce63f69204c4c56fe50fffbfc172&insttoken=2fe87d6f56fc41a3a6ba27bca6bfbeca&httpAccept=application%2Fjson\n",
      "Found 10.1016/j.buildenv.2019.106603/docs_sd/10.1016$&$j.buildenv.2019.106603.txt\n",
      "https://api.elsevier.com/content/article/doi/10.1016/j.rser.2014.07.091?apiKey=7204ce63f69204c4c56fe50fffbfc172&insttoken=2fe87d6f56fc41a3a6ba27bca6bfbeca&httpAccept=application%2Fjson\n",
      "https://api.elsevier.com/content/article/doi/10.1016/j.erss.2021.102295?apiKey=7204ce63f69204c4c56fe50fffbfc172&insttoken=2fe87d6f56fc41a3a6ba27bca6bfbeca&httpAccept=application%2Fjson\n",
      "https://api.elsevier.com/content/article/doi/10.1016/j.erss.2021.101919?apiKey=7204ce63f69204c4c56fe50fffbfc172&insttoken=2fe87d6f56fc41a3a6ba27bca6bfbeca&httpAccept=application%2Fjson\n",
      "Found 10.1016/B978-0-12-812817-6.00008-5/docs_sd/10.1016$&$B978-0-12-812817-6.00008-5.txt\n",
      "Found 10.1016/j.patter.2021.100340/docs_sd/10.1016$&$j.patter.2021.100340.txt\n",
      "https://api.elsevier.com/content/article/doi/10.1016/j.enpol.2020.111657?apiKey=7204ce63f69204c4c56fe50fffbfc172&insttoken=2fe87d6f56fc41a3a6ba27bca6bfbeca&httpAccept=application%2Fjson\n",
      "Found 10.1016/j.jenvman.2019.07.018/docs_sd/10.1016$&$j.jenvman.2019.07.018.txt\n",
      "https://api.elsevier.com/content/article/doi/10.1016/j.rser.2020.110199?apiKey=7204ce63f69204c4c56fe50fffbfc172&insttoken=2fe87d6f56fc41a3a6ba27bca6bfbeca&httpAccept=application%2Fjson\n",
      "Found 10.1016/j.erss.2019.101398/docs_sd/10.1016$&$j.erss.2019.101398.txt\n",
      "Found 10.1016/j.erss.2021.102355/docs_sd/10.1016$&$j.erss.2021.102355.txt\n",
      "https://api.elsevier.com/content/article/doi/10.1016/j.wasman.2019.04.037?apiKey=7204ce63f69204c4c56fe50fffbfc172&insttoken=2fe87d6f56fc41a3a6ba27bca6bfbeca&httpAccept=application%2Fjson\n",
      "https://api.elsevier.com/content/article/doi/10.1016/j.comnet.2021.108433?apiKey=7204ce63f69204c4c56fe50fffbfc172&insttoken=2fe87d6f56fc41a3a6ba27bca6bfbeca&httpAccept=application%2Fjson\n",
      "Found 10.1016/j.rser.2021.111066/docs_sd/10.1016$&$j.rser.2021.111066.txt\n",
      "https://api.elsevier.com/content/article/doi/10.1016/B978-0-12-817770-9.00007-9?apiKey=7204ce63f69204c4c56fe50fffbfc172&insttoken=2fe87d6f56fc41a3a6ba27bca6bfbeca&httpAccept=application%2Fjson\n",
      "Found 10.1016/j.jclepro.2020.122877/docs_sd/10.1016$&$j.jclepro.2020.122877.txt\n",
      "https://api.elsevier.com/content/article/doi/10.1016/B978-0-12-815965-1.00003-X?apiKey=7204ce63f69204c4c56fe50fffbfc172&insttoken=2fe87d6f56fc41a3a6ba27bca6bfbeca&httpAccept=application%2Fjson\n",
      "Found 10.1016/j.erss.2020.101688/docs_sd/10.1016$&$j.erss.2020.101688.txt\n",
      "https://api.elsevier.com/content/article/doi/10.1016/j.rser.2021.110915?apiKey=7204ce63f69204c4c56fe50fffbfc172&insttoken=2fe87d6f56fc41a3a6ba27bca6bfbeca&httpAccept=application%2Fjson\n",
      "https://api.elsevier.com/content/article/doi/10.1016/j.tele.2020.101375?apiKey=7204ce63f69204c4c56fe50fffbfc172&insttoken=2fe87d6f56fc41a3a6ba27bca6bfbeca&httpAccept=application%2Fjson\n",
      "Found 10.1016/j.apenergy.2020.114526/docs_sd/10.1016$&$j.apenergy.2020.114526.txt\n",
      "https://api.elsevier.com/content/article/doi/10.1016/j.enpol.2016.02.045?apiKey=7204ce63f69204c4c56fe50fffbfc172&insttoken=2fe87d6f56fc41a3a6ba27bca6bfbeca&httpAccept=application%2Fjson\n",
      "https://api.elsevier.com/content/article/doi/10.1016/B978-0-12-816835-6.00007-3?apiKey=7204ce63f69204c4c56fe50fffbfc172&insttoken=2fe87d6f56fc41a3a6ba27bca6bfbeca&httpAccept=application%2Fjson\n",
      "https://api.elsevier.com/content/article/doi/10.1016/B978-0-12-821724-5.00001-5?apiKey=7204ce63f69204c4c56fe50fffbfc172&insttoken=2fe87d6f56fc41a3a6ba27bca6bfbeca&httpAccept=application%2Fjson\n",
      "https://api.elsevier.com/content/article/doi/10.1016/j.buildenv.2020.106928?apiKey=7204ce63f69204c4c56fe50fffbfc172&insttoken=2fe87d6f56fc41a3a6ba27bca6bfbeca&httpAccept=application%2Fjson\n",
      "https://api.elsevier.com/content/article/doi/10.1016/j.jclepro.2014.04.070?apiKey=7204ce63f69204c4c56fe50fffbfc172&insttoken=2fe87d6f56fc41a3a6ba27bca6bfbeca&httpAccept=application%2Fjson\n",
      "Found 10.1016/j.jclepro.2020.121585/docs_sd/10.1016$&$j.jclepro.2020.121585.txt\n",
      "https://api.elsevier.com/content/article/doi/10.1016/j.jclepro.2019.118123?apiKey=7204ce63f69204c4c56fe50fffbfc172&insttoken=2fe87d6f56fc41a3a6ba27bca6bfbeca&httpAccept=application%2Fjson\n",
      "https://api.elsevier.com/content/article/doi/10.1016/j.erss.2021.102261?apiKey=7204ce63f69204c4c56fe50fffbfc172&insttoken=2fe87d6f56fc41a3a6ba27bca6bfbeca&httpAccept=application%2Fjson\n",
      "https://api.elsevier.com/content/article/doi/10.1016/j.energy.2020.119473?apiKey=7204ce63f69204c4c56fe50fffbfc172&insttoken=2fe87d6f56fc41a3a6ba27bca6bfbeca&httpAccept=application%2Fjson\n",
      "Found 10.1016/j.rser.2019.04.033/docs_sd/10.1016$&$j.rser.2019.04.033.txt\n",
      "https://api.elsevier.com/content/article/doi/10.1016/j.jclepro.2021.127003?apiKey=7204ce63f69204c4c56fe50fffbfc172&insttoken=2fe87d6f56fc41a3a6ba27bca6bfbeca&httpAccept=application%2Fjson\n",
      "https://api.elsevier.com/content/article/doi/10.1016/S1007-0214(08)70182-2?apiKey=7204ce63f69204c4c56fe50fffbfc172&insttoken=2fe87d6f56fc41a3a6ba27bca6bfbeca&httpAccept=application%2Fjson\n",
      "https://api.elsevier.com/content/article/doi/10.1016/j.jclepro.2018.01.232?apiKey=7204ce63f69204c4c56fe50fffbfc172&insttoken=2fe87d6f56fc41a3a6ba27bca6bfbeca&httpAccept=application%2Fjson\n",
      "Found 10.1016/j.rser.2016.11.044/docs_sd/10.1016$&$j.rser.2016.11.044.txt\n",
      "https://api.elsevier.com/content/article/doi/10.1016/j.fueleneab.2021.08.003?apiKey=7204ce63f69204c4c56fe50fffbfc172&insttoken=2fe87d6f56fc41a3a6ba27bca6bfbeca&httpAccept=application%2Fjson\n",
      "Found 10.1016/B978-0-12-809597-3.00526-5/docs_sd/10.1016$&$B978-0-12-809597-3.00526-5.txt\n",
      "https://api.elsevier.com/content/article/doi/10.1016/j.jclepro.2021.125834?apiKey=7204ce63f69204c4c56fe50fffbfc172&insttoken=2fe87d6f56fc41a3a6ba27bca6bfbeca&httpAccept=application%2Fjson\n",
      "Found 10.1016/j.jclepro.2019.04.106/docs_sd/10.1016$&$j.jclepro.2019.04.106.txt\n",
      "https://api.elsevier.com/content/article/doi/10.1016/j.erss.2015.12.002?apiKey=7204ce63f69204c4c56fe50fffbfc172&insttoken=2fe87d6f56fc41a3a6ba27bca6bfbeca&httpAccept=application%2Fjson\n",
      "https://api.elsevier.com/content/article/doi/10.1016/j.erss.2019.101306?apiKey=7204ce63f69204c4c56fe50fffbfc172&insttoken=2fe87d6f56fc41a3a6ba27bca6bfbeca&httpAccept=application%2Fjson\n",
      "https://api.elsevier.com/content/article/doi/10.1016/j.tele.2011.11.003?apiKey=7204ce63f69204c4c56fe50fffbfc172&insttoken=2fe87d6f56fc41a3a6ba27bca6bfbeca&httpAccept=application%2Fjson\n",
      "https://api.elsevier.com/content/article/doi/10.1016/j.techfore.2018.04.002?apiKey=7204ce63f69204c4c56fe50fffbfc172&insttoken=2fe87d6f56fc41a3a6ba27bca6bfbeca&httpAccept=application%2Fjson\n",
      "https://api.elsevier.com/content/article/doi/10.1016/j.jii.2021.100290?apiKey=7204ce63f69204c4c56fe50fffbfc172&insttoken=2fe87d6f56fc41a3a6ba27bca6bfbeca&httpAccept=application%2Fjson\n"
     ]
    },
    {
     "name": "stdout",
     "output_type": "stream",
     "text": [
      "https://api.elsevier.com/content/article/doi/10.1016/j.engappai.2019.03.008?apiKey=7204ce63f69204c4c56fe50fffbfc172&insttoken=2fe87d6f56fc41a3a6ba27bca6bfbeca&httpAccept=application%2Fjson\n",
      "https://api.elsevier.com/content/article/doi/10.1016/j.enbuild.2020.110192?apiKey=7204ce63f69204c4c56fe50fffbfc172&insttoken=2fe87d6f56fc41a3a6ba27bca6bfbeca&httpAccept=application%2Fjson\n",
      "Found 10.1016/j.apenergy.2021.117310/docs_sd/10.1016$&$j.apenergy.2021.117310.txt\n",
      "https://api.elsevier.com/content/article/doi/10.1016/j.enbuild.2017.07.019?apiKey=7204ce63f69204c4c56fe50fffbfc172&insttoken=2fe87d6f56fc41a3a6ba27bca6bfbeca&httpAccept=application%2Fjson\n",
      "https://api.elsevier.com/content/article/doi/10.1016/B978-0-12-803128-5.09990-6?apiKey=7204ce63f69204c4c56fe50fffbfc172&insttoken=2fe87d6f56fc41a3a6ba27bca6bfbeca&httpAccept=application%2Fjson\n",
      "Found 10.1016/j.enpol.2013.05.107/docs_sd/10.1016$&$j.enpol.2013.05.107.txt\n",
      "Found 10.1016/j.jeem.2020.102402/docs_sd/10.1016$&$j.jeem.2020.102402.txt\n",
      "https://api.elsevier.com/content/article/doi/10.1016/j.erss.2019.02.006?apiKey=7204ce63f69204c4c56fe50fffbfc172&insttoken=2fe87d6f56fc41a3a6ba27bca6bfbeca&httpAccept=application%2Fjson\n",
      "https://api.elsevier.com/content/article/doi/10.1016/j.erss.2017.11.004?apiKey=7204ce63f69204c4c56fe50fffbfc172&insttoken=2fe87d6f56fc41a3a6ba27bca6bfbeca&httpAccept=application%2Fjson\n",
      "https://api.elsevier.com/content/article/doi/10.1016/j.cirp.2017.06.001?apiKey=7204ce63f69204c4c56fe50fffbfc172&insttoken=2fe87d6f56fc41a3a6ba27bca6bfbeca&httpAccept=application%2Fjson\n",
      "https://api.elsevier.com/content/article/doi/10.1016/j.engappai.2014.06.015?apiKey=7204ce63f69204c4c56fe50fffbfc172&insttoken=2fe87d6f56fc41a3a6ba27bca6bfbeca&httpAccept=application%2Fjson\n",
      "https://api.elsevier.com/content/article/doi/10.1016/j.ccs.2017.10.003?apiKey=7204ce63f69204c4c56fe50fffbfc172&insttoken=2fe87d6f56fc41a3a6ba27bca6bfbeca&httpAccept=application%2Fjson\n",
      "Found 10.1016/j.erss.2014.04.005/docs_sd/10.1016$&$j.erss.2014.04.005.txt\n",
      "https://api.elsevier.com/content/article/doi/10.1016/j.est.2021.102520?apiKey=7204ce63f69204c4c56fe50fffbfc172&insttoken=2fe87d6f56fc41a3a6ba27bca6bfbeca&httpAccept=application%2Fjson\n",
      "https://api.elsevier.com/content/article/doi/10.1016/B978-0-12-415844-3.00037-1?apiKey=7204ce63f69204c4c56fe50fffbfc172&insttoken=2fe87d6f56fc41a3a6ba27bca6bfbeca&httpAccept=application%2Fjson\n",
      "https://api.elsevier.com/content/article/doi/10.1016/j.ecolecon.2019.106529?apiKey=7204ce63f69204c4c56fe50fffbfc172&insttoken=2fe87d6f56fc41a3a6ba27bca6bfbeca&httpAccept=application%2Fjson\n",
      "https://api.elsevier.com/content/article/doi/10.1016/j.scs.2013.08.001?apiKey=7204ce63f69204c4c56fe50fffbfc172&insttoken=2fe87d6f56fc41a3a6ba27bca6bfbeca&httpAccept=application%2Fjson\n",
      "https://api.elsevier.com/content/article/doi/10.1016/B978-0-08-102074-6.00032-2?apiKey=7204ce63f69204c4c56fe50fffbfc172&insttoken=2fe87d6f56fc41a3a6ba27bca6bfbeca&httpAccept=application%2Fjson\n",
      "https://api.elsevier.com/content/article/doi/10.1016/j.enpol.2016.09.016?apiKey=7204ce63f69204c4c56fe50fffbfc172&insttoken=2fe87d6f56fc41a3a6ba27bca6bfbeca&httpAccept=application%2Fjson\n",
      "https://api.elsevier.com/content/article/doi/10.1016/j.ijinfomgt.2021.102456?apiKey=7204ce63f69204c4c56fe50fffbfc172&insttoken=2fe87d6f56fc41a3a6ba27bca6bfbeca&httpAccept=application%2Fjson\n",
      "https://api.elsevier.com/content/article/doi/10.1016/j.fueleneab.2021.03.002?apiKey=7204ce63f69204c4c56fe50fffbfc172&insttoken=2fe87d6f56fc41a3a6ba27bca6bfbeca&httpAccept=application%2Fjson\n",
      "https://api.elsevier.com/content/article/doi/10.1016/j.fueleneab.2021.08.002?apiKey=7204ce63f69204c4c56fe50fffbfc172&insttoken=2fe87d6f56fc41a3a6ba27bca6bfbeca&httpAccept=application%2Fjson\n",
      "https://api.elsevier.com/content/article/doi/10.1016/j.fueleneab.2014.08.002?apiKey=7204ce63f69204c4c56fe50fffbfc172&insttoken=2fe87d6f56fc41a3a6ba27bca6bfbeca&httpAccept=application%2Fjson\n",
      "https://api.elsevier.com/content/article/doi/10.1016/j.fueleneab.2012.08.002?apiKey=7204ce63f69204c4c56fe50fffbfc172&insttoken=2fe87d6f56fc41a3a6ba27bca6bfbeca&httpAccept=application%2Fjson\n",
      "https://api.elsevier.com/content/article/doi/10.1016/j.fueleneab.2020.04.002?apiKey=7204ce63f69204c4c56fe50fffbfc172&insttoken=2fe87d6f56fc41a3a6ba27bca6bfbeca&httpAccept=application%2Fjson\n",
      "https://api.elsevier.com/content/article/doi/10.1016/j.fueleneab.2018.03.002?apiKey=7204ce63f69204c4c56fe50fffbfc172&insttoken=2fe87d6f56fc41a3a6ba27bca6bfbeca&httpAccept=application%2Fjson\n",
      "https://api.elsevier.com/content/article/doi/10.1016/j.fueleneab.2017.12.002?apiKey=7204ce63f69204c4c56fe50fffbfc172&insttoken=2fe87d6f56fc41a3a6ba27bca6bfbeca&httpAccept=application%2Fjson\n",
      "https://api.elsevier.com/content/article/doi/10.1016/j.fueleneab.2021.06.002?apiKey=7204ce63f69204c4c56fe50fffbfc172&insttoken=2fe87d6f56fc41a3a6ba27bca6bfbeca&httpAccept=application%2Fjson\n",
      "https://api.elsevier.com/content/article/doi/10.1016/B978-0-12-804677-7.18001-6?apiKey=7204ce63f69204c4c56fe50fffbfc172&insttoken=2fe87d6f56fc41a3a6ba27bca6bfbeca&httpAccept=application%2Fjson\n",
      "https://api.elsevier.com/content/article/doi/10.1016/j.fueleneab.2019.02.002?apiKey=7204ce63f69204c4c56fe50fffbfc172&insttoken=2fe87d6f56fc41a3a6ba27bca6bfbeca&httpAccept=application%2Fjson\n",
      "https://api.elsevier.com/content/article/doi/10.1016/j.fueleneab.2018.10.002?apiKey=7204ce63f69204c4c56fe50fffbfc172&insttoken=2fe87d6f56fc41a3a6ba27bca6bfbeca&httpAccept=application%2Fjson\n"
     ]
    }
   ],
   "source": [
    "obj = ArticleContent(database, db_dir, fname)\n",
    "obj.execute()"
   ]
  },
  {
   "cell_type": "code",
   "execution_count": 3,
   "metadata": {},
   "outputs": [
    {
     "name": "stdout",
     "output_type": "stream",
     "text": [
      "https://api.elsevier.com/content/search/scopus?start=0&cursor=*&count=25&query=\"energy efficien*\" AND \"smart home*\" AND (\"rebound effect\" OR \"jevons paradox\" OR \"khazzoom-brookes postulate\")&apiKey=7204ce63f69204c4c56fe50fffbfc172&httpAccept=application%2Fjson&insttoken=2fe87d6f56fc41a3a6ba27bca6bfbeca\n",
      "https://api.elsevier.com/content/search/scopus?cursor=AoJdwIxNMjItczIuMC04NTEwMzMwNTExOA%3D%3D&count=25&query=%22energy+efficien*%22+AND+%22smart+home*%22+AND+%28%22rebound+effect%22+OR+%22jevons+paradox%22+OR+%22khazzoom-brookes+postulate%22%29&apiKey=7204ce63f69204c4c56fe50fffbfc172&httpAccept=application%2Fjson&insttoken=2fe87d6f56fc41a3a6ba27bca6bfbeca\n",
      "https://api.elsevier.com/content/search/scopus?cursor=AoJVm4xNMjItczIuMC04NTEwNTY3Mjc2OQ%3D%3D&count=25&query=%22energy+efficien*%22+AND+%22smart+home*%22+AND+%28%22rebound+effect%22+OR+%22jevons+paradox%22+OR+%22khazzoom-brookes+postulate%22%29&apiKey=7204ce63f69204c4c56fe50fffbfc172&httpAccept=application%2Fjson&insttoken=2fe87d6f56fc41a3a6ba27bca6bfbeca\n",
      "https://api.elsevier.com/content/search/scopus?cursor=AoJZyYdNMjItczIuMC04NTA4MTAwNjY0MA%3D%3D&count=25&query=%22energy+efficien*%22+AND+%22smart+home*%22+AND+%28%22rebound+effect%22+OR+%22jevons+paradox%22+OR+%22khazzoom-brookes+postulate%22%29&apiKey=7204ce63f69204c4c56fe50fffbfc172&httpAccept=application%2Fjson&insttoken=2fe87d6f56fc41a3a6ba27bca6bfbeca\n",
      "https://api.elsevier.com/content/search/scopus?cursor=AoJd3oJNMjItczIuMC04NTA2NDU0NzA5OA%3D%3D&count=25&query=%22energy+efficien*%22+AND+%22smart+home*%22+AND+%28%22rebound+effect%22+OR+%22jevons+paradox%22+OR+%22khazzoom-brookes+postulate%22%29&apiKey=7204ce63f69204c4c56fe50fffbfc172&httpAccept=application%2Fjson&insttoken=2fe87d6f56fc41a3a6ba27bca6bfbeca\n",
      "https://api.elsevier.com/content/search/scopus?cursor=AoJV4f1MMjItczIuMC04NTAzNjY0NzI1OQ%3D%3D&count=25&query=%22energy+efficien*%22+AND+%22smart+home*%22+AND+%28%22rebound+effect%22+OR+%22jevons+paradox%22+OR+%22khazzoom-brookes+postulate%22%29&apiKey=7204ce63f69204c4c56fe50fffbfc172&httpAccept=application%2Fjson&insttoken=2fe87d6f56fc41a3a6ba27bca6bfbeca\n",
      "https://api.elsevier.com/content/search/scopus?cursor=AoJZ3fhMMjItczIuMC04NDk2NDU0MzczOA%3D%3D&count=25&query=%22energy+efficien*%22+AND+%22smart+home*%22+AND+%28%22rebound+effect%22+OR+%22jevons+paradox%22+OR+%22khazzoom-brookes+postulate%22%29&apiKey=7204ce63f69204c4c56fe50fffbfc172&httpAccept=application%2Fjson&insttoken=2fe87d6f56fc41a3a6ba27bca6bfbeca\n",
      "https://api.elsevier.com/content/search/scopus?cursor=AoJRzuBMMjItczIuMC04NDg2NDAzOTMyNQ%3D%3D&count=25&query=%22energy+efficien*%22+AND+%22smart+home*%22+AND+%28%22rebound+effect%22+OR+%22jevons+paradox%22+OR+%22khazzoom-brookes+postulate%22%29&apiKey=7204ce63f69204c4c56fe50fffbfc172&httpAccept=application%2Fjson&insttoken=2fe87d6f56fc41a3a6ba27bca6bfbeca\n",
      "\"energy efficien*\" AND \"smart home*\" AND (\"rebound effect\" OR \"jevons paradox\" OR \"khazzoom-brookes postulate\") 175\n"
     ]
    }
   ],
   "source": [
    "search_term = '\"energy efficien*\" AND \"smart home*\" AND (\"rebound effect\" OR \"jevons paradox\" OR \"khazzoom-brookes postulate\")'\n",
    "obj = GetTotal(database, search_term, \"scopus_all.csv\", 1)\n",
    "print(search_term, obj.search())"
   ]
  },
  {
   "cell_type": "code",
   "execution_count": 4,
   "metadata": {},
   "outputs": [
    {
     "ename": "SyntaxError",
     "evalue": "invalid syntax (<ipython-input-4-298996beaf95>, line 1)",
     "output_type": "error",
     "traceback": [
      "\u001b[1;36m  File \u001b[1;32m\"<ipython-input-4-298996beaf95>\"\u001b[1;36m, line \u001b[1;32m1\u001b[0m\n\u001b[1;33m    \"energy efficien*\" AND \"smart home*\" AND (\"rebound effect\" OR \"jevons paradox\" OR \"khazzoom-brookes postulate\")\u001b[0m\n\u001b[1;37m                         ^\u001b[0m\n\u001b[1;31mSyntaxError\u001b[0m\u001b[1;31m:\u001b[0m invalid syntax\n"
     ]
    }
   ],
   "source": [
    "\"energy efficien*\" AND \"smart home*\" AND (\"rebound effect\" OR \"jevons paradox\" OR \"khazzoom-brookes postulate\")"
   ]
  },
  {
   "cell_type": "code",
   "execution_count": null,
   "metadata": {},
   "outputs": [],
   "source": []
  },
  {
   "cell_type": "code",
   "execution_count": null,
   "metadata": {},
   "outputs": [],
   "source": []
  }
 ],
 "metadata": {
  "kernelspec": {
   "display_name": "Python 3 (ipykernel)",
   "language": "python",
   "name": "python3"
  },
  "language_info": {
   "codemirror_mode": {
    "name": "ipython",
    "version": 3
   },
   "file_extension": ".py",
   "mimetype": "text/x-python",
   "name": "python",
   "nbconvert_exporter": "python",
   "pygments_lexer": "ipython3",
   "version": "3.10.4"
  }
 },
 "nbformat": 4,
 "nbformat_minor": 4
}
